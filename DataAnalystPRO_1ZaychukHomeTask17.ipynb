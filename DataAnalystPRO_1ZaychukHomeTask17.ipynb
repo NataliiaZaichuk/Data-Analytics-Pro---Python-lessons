{
  "nbformat": 4,
  "nbformat_minor": 0,
  "metadata": {
    "colab": {
      "provenance": [],
      "toc_visible": true
    },
    "kernelspec": {
      "name": "python3",
      "display_name": "Python 3"
    },
    "language_info": {
      "name": "python"
    }
  },
  "cells": [
    {
      "cell_type": "markdown",
      "source": [
        "# Робота з файлами. Основна інформація\n",
        "\n",
        "Використовуйте функцію open(), щоб відкрити файл. Він повертає файловий об’єкт.\n",
        "\n",
        "\n",
        "\n",
        "```\n",
        "file = open('filename', mode)\n",
        "```\n",
        "\n",
        "Common modes:\n",
        "* Read Only (‘r’): Open text file for reading. If the file does not exist, raises the I/O error. This is also the default mode in which a file is opened.\n",
        "* Read and Write (‘r+’): Open the file for reading and writing. Raises I/O error if the file does not exist.\n",
        "* Write Only (‘w’): Open the file for writing. For the existing files, the data is truncated and over-written. Creates the file if the file does not exist.\n",
        "* Write and Read (‘w+’): Open the file for reading and writing. For an existing file, data is truncated and over-written.\n",
        "* Append Only (‘a’): Open the file for writing. The file is created if it does not exist. The handle is positioned at the end of the file. The data being written will be inserted at the end, after the existing data.\n",
        "* Append and Read (‘a+’): Open the file for reading and writing. The file is created if it does not exist. The handle is positioned at the end of the file. The data being written will be inserted at the end, after the existing data.\n",
        "* 'b' – Binary mode (e.g., 'rb', 'wb' for reading/writing binary files)\n",
        "* 'x' – Exclusive creation, fails if the file already exists\n"
      ],
      "metadata": {
        "id": "pMFYU8jD-lHX"
      }
    },
    {
      "cell_type": "code",
      "source": [
        "word_file = open('word.json', 'r')\n",
        "print(type(word_file))"
      ],
      "metadata": {
        "id": "K2WvEbpT9HH2"
      },
      "execution_count": null,
      "outputs": []
    },
    {
      "cell_type": "markdown",
      "source": [
        "Завжди закривайте файл, щоб звільнити системні ресурси - file.close()."
      ],
      "metadata": {
        "id": "WC4Y4XDsAQOd"
      }
    },
    {
      "cell_type": "code",
      "source": [
        "word_file.close()\n",
        "type(word_file)"
      ],
      "metadata": {
        "id": "a_9JqHFcFtlN"
      },
      "execution_count": null,
      "outputs": []
    },
    {
      "cell_type": "code",
      "source": [
        "word_file.read()"
      ],
      "metadata": {
        "id": "u_oZ072gFuPe"
      },
      "execution_count": null,
      "outputs": []
    },
    {
      "cell_type": "code",
      "source": [
        "word_file.closed"
      ],
      "metadata": {
        "id": "tx4rc6O6FxtB"
      },
      "execution_count": null,
      "outputs": []
    },
    {
      "cell_type": "markdown",
      "source": [
        "#  Завдання 1: Завантажити будь яким способом файли типу: txt, json, csv, xlsx  +  Завдання 3: завантажити Pandas"
      ],
      "metadata": {
        "id": "f9xUp-XJ_QT2"
      }
    },
    {
      "cell_type": "code",
      "execution_count": null,
      "metadata": {
        "id": "VDEeIz-o7LzA"
      },
      "outputs": [],
      "source": [
        "import pandas as pd     #     Імпортуємо pandas для роботи з таблицями\n",
        "import json             #     Для роботи з JSON\n"
      ]
    },
    {
      "cell_type": "code",
      "source": [
        "# Завантаження файлів з комп'ютера\n",
        "from google.colab import files               # Імпортуємо модуль для завантаження файлів\n",
        "uploaded = files.upload()                    # Відкриває вікно для завантаження локальних файлів\n",
        "\n"
      ],
      "metadata": {
        "colab": {
          "base_uri": "https://localhost:8080/",
          "height": 177
        },
        "id": "M6VtgIWp7aWC",
        "outputId": "5dd454c5-1ba4-4f4e-a5fb-be661171ea28"
      },
      "execution_count": null,
      "outputs": [
        {
          "output_type": "display_data",
          "data": {
            "text/plain": [
              "<IPython.core.display.HTML object>"
            ],
            "text/html": [
              "\n",
              "     <input type=\"file\" id=\"files-119f947e-e9c6-4975-8051-2ea86cf2e101\" name=\"files[]\" multiple disabled\n",
              "        style=\"border:none\" />\n",
              "     <output id=\"result-119f947e-e9c6-4975-8051-2ea86cf2e101\">\n",
              "      Upload widget is only available when the cell has been executed in the\n",
              "      current browser session. Please rerun this cell to enable.\n",
              "      </output>\n",
              "      <script>// Copyright 2017 Google LLC\n",
              "//\n",
              "// Licensed under the Apache License, Version 2.0 (the \"License\");\n",
              "// you may not use this file except in compliance with the License.\n",
              "// You may obtain a copy of the License at\n",
              "//\n",
              "//      http://www.apache.org/licenses/LICENSE-2.0\n",
              "//\n",
              "// Unless required by applicable law or agreed to in writing, software\n",
              "// distributed under the License is distributed on an \"AS IS\" BASIS,\n",
              "// WITHOUT WARRANTIES OR CONDITIONS OF ANY KIND, either express or implied.\n",
              "// See the License for the specific language governing permissions and\n",
              "// limitations under the License.\n",
              "\n",
              "/**\n",
              " * @fileoverview Helpers for google.colab Python module.\n",
              " */\n",
              "(function(scope) {\n",
              "function span(text, styleAttributes = {}) {\n",
              "  const element = document.createElement('span');\n",
              "  element.textContent = text;\n",
              "  for (const key of Object.keys(styleAttributes)) {\n",
              "    element.style[key] = styleAttributes[key];\n",
              "  }\n",
              "  return element;\n",
              "}\n",
              "\n",
              "// Max number of bytes which will be uploaded at a time.\n",
              "const MAX_PAYLOAD_SIZE = 100 * 1024;\n",
              "\n",
              "function _uploadFiles(inputId, outputId) {\n",
              "  const steps = uploadFilesStep(inputId, outputId);\n",
              "  const outputElement = document.getElementById(outputId);\n",
              "  // Cache steps on the outputElement to make it available for the next call\n",
              "  // to uploadFilesContinue from Python.\n",
              "  outputElement.steps = steps;\n",
              "\n",
              "  return _uploadFilesContinue(outputId);\n",
              "}\n",
              "\n",
              "// This is roughly an async generator (not supported in the browser yet),\n",
              "// where there are multiple asynchronous steps and the Python side is going\n",
              "// to poll for completion of each step.\n",
              "// This uses a Promise to block the python side on completion of each step,\n",
              "// then passes the result of the previous step as the input to the next step.\n",
              "function _uploadFilesContinue(outputId) {\n",
              "  const outputElement = document.getElementById(outputId);\n",
              "  const steps = outputElement.steps;\n",
              "\n",
              "  const next = steps.next(outputElement.lastPromiseValue);\n",
              "  return Promise.resolve(next.value.promise).then((value) => {\n",
              "    // Cache the last promise value to make it available to the next\n",
              "    // step of the generator.\n",
              "    outputElement.lastPromiseValue = value;\n",
              "    return next.value.response;\n",
              "  });\n",
              "}\n",
              "\n",
              "/**\n",
              " * Generator function which is called between each async step of the upload\n",
              " * process.\n",
              " * @param {string} inputId Element ID of the input file picker element.\n",
              " * @param {string} outputId Element ID of the output display.\n",
              " * @return {!Iterable<!Object>} Iterable of next steps.\n",
              " */\n",
              "function* uploadFilesStep(inputId, outputId) {\n",
              "  const inputElement = document.getElementById(inputId);\n",
              "  inputElement.disabled = false;\n",
              "\n",
              "  const outputElement = document.getElementById(outputId);\n",
              "  outputElement.innerHTML = '';\n",
              "\n",
              "  const pickedPromise = new Promise((resolve) => {\n",
              "    inputElement.addEventListener('change', (e) => {\n",
              "      resolve(e.target.files);\n",
              "    });\n",
              "  });\n",
              "\n",
              "  const cancel = document.createElement('button');\n",
              "  inputElement.parentElement.appendChild(cancel);\n",
              "  cancel.textContent = 'Cancel upload';\n",
              "  const cancelPromise = new Promise((resolve) => {\n",
              "    cancel.onclick = () => {\n",
              "      resolve(null);\n",
              "    };\n",
              "  });\n",
              "\n",
              "  // Wait for the user to pick the files.\n",
              "  const files = yield {\n",
              "    promise: Promise.race([pickedPromise, cancelPromise]),\n",
              "    response: {\n",
              "      action: 'starting',\n",
              "    }\n",
              "  };\n",
              "\n",
              "  cancel.remove();\n",
              "\n",
              "  // Disable the input element since further picks are not allowed.\n",
              "  inputElement.disabled = true;\n",
              "\n",
              "  if (!files) {\n",
              "    return {\n",
              "      response: {\n",
              "        action: 'complete',\n",
              "      }\n",
              "    };\n",
              "  }\n",
              "\n",
              "  for (const file of files) {\n",
              "    const li = document.createElement('li');\n",
              "    li.append(span(file.name, {fontWeight: 'bold'}));\n",
              "    li.append(span(\n",
              "        `(${file.type || 'n/a'}) - ${file.size} bytes, ` +\n",
              "        `last modified: ${\n",
              "            file.lastModifiedDate ? file.lastModifiedDate.toLocaleDateString() :\n",
              "                                    'n/a'} - `));\n",
              "    const percent = span('0% done');\n",
              "    li.appendChild(percent);\n",
              "\n",
              "    outputElement.appendChild(li);\n",
              "\n",
              "    const fileDataPromise = new Promise((resolve) => {\n",
              "      const reader = new FileReader();\n",
              "      reader.onload = (e) => {\n",
              "        resolve(e.target.result);\n",
              "      };\n",
              "      reader.readAsArrayBuffer(file);\n",
              "    });\n",
              "    // Wait for the data to be ready.\n",
              "    let fileData = yield {\n",
              "      promise: fileDataPromise,\n",
              "      response: {\n",
              "        action: 'continue',\n",
              "      }\n",
              "    };\n",
              "\n",
              "    // Use a chunked sending to avoid message size limits. See b/62115660.\n",
              "    let position = 0;\n",
              "    do {\n",
              "      const length = Math.min(fileData.byteLength - position, MAX_PAYLOAD_SIZE);\n",
              "      const chunk = new Uint8Array(fileData, position, length);\n",
              "      position += length;\n",
              "\n",
              "      const base64 = btoa(String.fromCharCode.apply(null, chunk));\n",
              "      yield {\n",
              "        response: {\n",
              "          action: 'append',\n",
              "          file: file.name,\n",
              "          data: base64,\n",
              "        },\n",
              "      };\n",
              "\n",
              "      let percentDone = fileData.byteLength === 0 ?\n",
              "          100 :\n",
              "          Math.round((position / fileData.byteLength) * 100);\n",
              "      percent.textContent = `${percentDone}% done`;\n",
              "\n",
              "    } while (position < fileData.byteLength);\n",
              "  }\n",
              "\n",
              "  // All done.\n",
              "  yield {\n",
              "    response: {\n",
              "      action: 'complete',\n",
              "    }\n",
              "  };\n",
              "}\n",
              "\n",
              "scope.google = scope.google || {};\n",
              "scope.google.colab = scope.google.colab || {};\n",
              "scope.google.colab._files = {\n",
              "  _uploadFiles,\n",
              "  _uploadFilesContinue,\n",
              "};\n",
              "})(self);\n",
              "</script> "
            ]
          },
          "metadata": {}
        },
        {
          "output_type": "stream",
          "name": "stdout",
          "text": [
            "Saving example.txt to example.txt\n",
            "Saving internet_store_sales.csv to internet_store_sales.csv\n",
            "Saving internet_store_sales.json to internet_store_sales.json\n",
            "Saving internet_store_sales.xlsx to internet_store_sales.xlsx\n"
          ]
        }
      ]
    },
    {
      "cell_type": "code",
      "source": [
        "# 1. TXT файл (example.txt)\n",
        "with open(\"example.txt\", \"r\") as file:       # Відкриваємо текстовий файл у режимі читання\n",
        "    txt_data = file.read()                   # Зчитуємо весь вміст файлу\n",
        "print(txt_data)                              # Виводимо текст у консоль\n"
      ],
      "metadata": {
        "colab": {
          "base_uri": "https://localhost:8080/"
        },
        "id": "cBl8KNQV9eqr",
        "outputId": "ae33ad92-7ed4-4168-ad45-ef3dbd68ce9a"
      },
      "execution_count": null,
      "outputs": [
        {
          "output_type": "stream",
          "name": "stdout",
          "text": [
            "{\n",
            "        \"order_id\":205154,\n",
            "        \"customer_id\":9771,\n",
            "        \"order_date\":\"2024-07-12\",\n",
            "        \"shipping_date\":\"2024-07-16\",\n",
            "        \"order_status\":\"Pending\",\n",
            "        \"total_amount\":133.15\n",
            "    },\n",
            "    {\n",
            "        \"order_id\":857862,\n",
            "        \"customer_id\":4478,\n",
            "        \"order_date\":\"2024-09-27\",\n",
            "        \"shipping_date\":\"2024-10-02\",\n",
            "        \"order_status\":\"Shipped\",\n",
            "        \"total_amount\":446.21\n",
            "    },\n",
            "    {\n",
            "        \"order_id\":561738,\n",
            "        \"customer_id\":2773,\n",
            "        \"order_date\":\"2024-12-08\",\n",
            "        \"shipping_date\":\"2024-12-13\",\n",
            "        \"order_status\":\"Pending\",\n",
            "        \"total_amount\":370.6\n",
            "    }\n"
          ]
        }
      ]
    },
    {
      "cell_type": "code",
      "source": [
        "# 2. JSON з TXT\n",
        "import json                                  # Імпортуємо модуль для роботи з JSON\n",
        "\n",
        "txt_data_list = \"[\" + txt_data.strip().rstrip(',') + \"]\"   # Додаємо дужки, щоб утворити коректний список\n",
        "json_data = json.loads(txt_data_list)                      # Перетворюємо текст у Python об'єкт (список словників)\n",
        "print(json_data)                                           # Виводимо результат\n"
      ],
      "metadata": {
        "colab": {
          "base_uri": "https://localhost:8080/"
        },
        "id": "OKAV96N59hHD",
        "outputId": "05a139da-b28d-4f91-9695-b61dc1064a8d"
      },
      "execution_count": null,
      "outputs": [
        {
          "output_type": "stream",
          "name": "stdout",
          "text": [
            "[{'order_id': 205154, 'customer_id': 9771, 'order_date': '2024-07-12', 'shipping_date': '2024-07-16', 'order_status': 'Pending', 'total_amount': 133.15}, {'order_id': 857862, 'customer_id': 4478, 'order_date': '2024-09-27', 'shipping_date': '2024-10-02', 'order_status': 'Shipped', 'total_amount': 446.21}, {'order_id': 561738, 'customer_id': 2773, 'order_date': '2024-12-08', 'shipping_date': '2024-12-13', 'order_status': 'Pending', 'total_amount': 370.6}]\n"
          ]
        }
      ]
    },
    {
      "cell_type": "code",
      "source": [
        "# 3. CSV файл (internet_store_sales.csv)\n",
        "import pandas as pd                         # Імпортуємо бібліотеку pandas\n",
        "\n",
        "csv_df = pd.read_csv(\"internet_store_sales.csv\")    # Зчитуємо CSV-файл у таблицю DataFrame\n",
        "print(csv_df.head())                        # Виводимо перші 5 рядків таблиці\n"
      ],
      "metadata": {
        "colab": {
          "base_uri": "https://localhost:8080/"
        },
        "id": "nSKfT4e29kit",
        "outputId": "0e35e19a-8199-4c31-dd11-ed68085cbb5e"
      },
      "execution_count": null,
      "outputs": [
        {
          "output_type": "stream",
          "name": "stdout",
          "text": [
            "   order_id  customer_id  order_date shipping_date order_status  total_amount\n",
            "0    205154         9771  2024-07-12    2024-07-16      Pending        133.15\n",
            "1    857862         4478  2024-09-27    2024-10-02      Shipped        446.21\n",
            "2    561738         2773  2024-12-08    2024-12-13      Pending        370.60\n",
            "3    415920         7307  2024-06-20    2024-06-24      Shipped        456.88\n",
            "4    720670         6123  2024-12-31    2025-01-05      Pending        476.70\n"
          ]
        }
      ]
    },
    {
      "cell_type": "code",
      "source": [
        "# 4. XLSX файл (internet_store_sales.xlsx)\n",
        "xlsx_df = pd.read_excel(\"internet_store_sales.xlsx\")      # Зчитуємо Excel-файл у DataFrame\n",
        "print(xlsx_df.head())                            # Виводимо перші рядки таблиці\n"
      ],
      "metadata": {
        "colab": {
          "base_uri": "https://localhost:8080/"
        },
        "id": "rCPPbMae9pIR",
        "outputId": "bc90d708-e432-48b7-9d66-3f00351000c1"
      },
      "execution_count": null,
      "outputs": [
        {
          "output_type": "stream",
          "name": "stdout",
          "text": [
            "   order_id  customer_id  order_date shipping_date order_status  total_amount\n",
            "0    205154         9771  2024-07-12    2024-07-16      Pending        133.15\n",
            "1    857862         4478  2024-09-27    2024-10-02      Shipped        446.21\n",
            "2    561738         2773  2024-12-08    2024-12-13      Pending        370.60\n",
            "3    415920         7307  2024-06-20    2024-06-24      Shipped        456.88\n",
            "4    720670         6123  2024-12-31    2025-01-05      Pending        476.70\n"
          ]
        }
      ]
    },
    {
      "cell_type": "markdown",
      "source": [
        "# Домашнє завдання - Завдання 2: Провести базові операції з файлами:\n",
        "читання, писання, додавання, видалення"
      ],
      "metadata": {
        "id": "Ybb2-4dR_uZe"
      }
    },
    {
      "cell_type": "markdown",
      "source": [
        "## 2.1. TXT-файл"
      ],
      "metadata": {
        "id": "GSHrnumwALBx"
      }
    },
    {
      "cell_type": "code",
      "source": [
        "# Читання\n",
        "with open(\"example.txt\", \"r\") as original_file:\n",
        "    content = original_file.read()\n",
        "print(\" Вміст оригіналу:\\n\", content)\n",
        "\n",
        "# Створимо копію оригінального файлу (щоб не втратити первинної інформації)\n",
        "with open(\"example_copy.txt\", \"w\") as copy_file:\n",
        "    copy_file.write(content)\n",
        "print(\" Створено копію: example_copy.txt\")\n",
        "\n",
        "# Перевірка вмісту копії\n",
        "with open(\"example_copy.txt\", \"r\") as copy_file:\n",
        "    print(\" Вміст копії:\\n\", copy_file.read())"
      ],
      "metadata": {
        "colab": {
          "base_uri": "https://localhost:8080/"
        },
        "id": "ifSrYvATAWSE",
        "outputId": "132119de-2e09-4866-f0e4-89601db46f97"
      },
      "execution_count": null,
      "outputs": [
        {
          "output_type": "stream",
          "name": "stdout",
          "text": [
            " Вміст оригіналу:\n",
            " {\n",
            "        \"order_id\":205154,\n",
            "        \"customer_id\":9771,\n",
            "        \"order_date\":\"2024-07-12\",\n",
            "        \"shipping_date\":\"2024-07-16\",\n",
            "        \"order_status\":\"Pending\",\n",
            "        \"total_amount\":133.15\n",
            "    },\n",
            "    {\n",
            "        \"order_id\":857862,\n",
            "        \"customer_id\":4478,\n",
            "        \"order_date\":\"2024-09-27\",\n",
            "        \"shipping_date\":\"2024-10-02\",\n",
            "        \"order_status\":\"Shipped\",\n",
            "        \"total_amount\":446.21\n",
            "    },\n",
            "    {\n",
            "        \"order_id\":561738,\n",
            "        \"customer_id\":2773,\n",
            "        \"order_date\":\"2024-12-08\",\n",
            "        \"shipping_date\":\"2024-12-13\",\n",
            "        \"order_status\":\"Pending\",\n",
            "        \"total_amount\":370.6\n",
            "    }\n",
            " Створено копію: example_copy.txt\n",
            " Вміст копії:\n",
            " {\n",
            "        \"order_id\":205154,\n",
            "        \"customer_id\":9771,\n",
            "        \"order_date\":\"2024-07-12\",\n",
            "        \"shipping_date\":\"2024-07-16\",\n",
            "        \"order_status\":\"Pending\",\n",
            "        \"total_amount\":133.15\n",
            "    },\n",
            "    {\n",
            "        \"order_id\":857862,\n",
            "        \"customer_id\":4478,\n",
            "        \"order_date\":\"2024-09-27\",\n",
            "        \"shipping_date\":\"2024-10-02\",\n",
            "        \"order_status\":\"Shipped\",\n",
            "        \"total_amount\":446.21\n",
            "    },\n",
            "    {\n",
            "        \"order_id\":561738,\n",
            "        \"customer_id\":2773,\n",
            "        \"order_date\":\"2024-12-08\",\n",
            "        \"shipping_date\":\"2024-12-13\",\n",
            "        \"order_status\":\"Pending\",\n",
            "        \"total_amount\":370.6\n",
            "    }\n"
          ]
        }
      ]
    },
    {
      "cell_type": "code",
      "source": [
        "#  Запис (перезаписуємо повністю)\n",
        "with open(\"example_copy.txt\", \"w\") as file:\n",
        "    file.write(\"Це новий текстовий вміст.\\n\")\n",
        "print(\"TXT файл перезаписано.\")\n",
        "\n",
        "with open(\"example_copy.txt\", \"r\") as file:\n",
        "    print(\"Новий вміст TXT:\\n\", file.read())\n"
      ],
      "metadata": {
        "colab": {
          "base_uri": "https://localhost:8080/"
        },
        "id": "VsVbHfb8Ai9f",
        "outputId": "6b49dfda-7a03-4377-dd9a-f16fbc175867"
      },
      "execution_count": null,
      "outputs": [
        {
          "output_type": "stream",
          "name": "stdout",
          "text": [
            "TXT файл перезаписано.\n",
            "Новий вміст TXT:\n",
            " Це новий текстовий вміст.\n",
            "\n"
          ]
        }
      ]
    },
    {
      "cell_type": "code",
      "source": [
        "# Додавання до кінця файлу:\n",
        "with open(\"example_copy.txt\", \"a\") as file:\n",
        "    file.write(\"Це доданий рядок.\\n\")\n",
        "print(\"Рядок додано до TXT.\")\n",
        "\n",
        "with open(\"example_copy.txt\", \"r\") as file:\n",
        "    print(\"Оновлений вміст TXT:\\n\", file.read())\n"
      ],
      "metadata": {
        "colab": {
          "base_uri": "https://localhost:8080/"
        },
        "id": "-4X3HFLUCMw0",
        "outputId": "eb14caad-70e1-4166-9651-e08c60b4c48c"
      },
      "execution_count": null,
      "outputs": [
        {
          "output_type": "stream",
          "name": "stdout",
          "text": [
            "Рядок додано до TXT.\n",
            "Оновлений вміст TXT:\n",
            " Це новий текстовий вміст.\n",
            "Це доданий рядок.\n",
            "\n"
          ]
        }
      ]
    },
    {
      "cell_type": "code",
      "source": [
        "# Видалення (перезапис без певного рядка):\n",
        "with open(\"example_copy.txt\", \"r\") as file:\n",
        "    lines = file.readlines()\n",
        "\n",
        "# Видаляємо рядок, який містить слово \"доданий\"\n",
        "with open(\"example_copy.txt\", \"w\") as file:\n",
        "    for line in lines:\n",
        "        if \"доданий\" not in line:\n",
        "            file.write(line)\n",
        "\n",
        "print(\"Видалено рядок із TXT.\")\n",
        "\n",
        "with open(\"example_copy.txt\", \"r\") as file:\n",
        "    print(\"Вміст після видалення:\\n\", file.read())\n"
      ],
      "metadata": {
        "colab": {
          "base_uri": "https://localhost:8080/"
        },
        "id": "-TP1TNumCZG2",
        "outputId": "02340589-907d-41a9-fce0-c9e0996d3d23"
      },
      "execution_count": null,
      "outputs": [
        {
          "output_type": "stream",
          "name": "stdout",
          "text": [
            "Видалено рядок із TXT.\n",
            "Вміст після видалення:\n",
            " Це новий текстовий вміст.\n",
            "\n"
          ]
        }
      ]
    },
    {
      "cell_type": "markdown",
      "source": [
        "## 2.2. CSV файл – internet_store_sales.csv"
      ],
      "metadata": {
        "id": "I58M8z9uEInu"
      }
    },
    {
      "cell_type": "code",
      "source": [
        "import pandas as pd\n",
        "\n",
        "# 1. Читання CSV-файлу\n",
        "print(\"=== 1. Читання оригінального файлу ===\")\n",
        "df = pd.read_csv(\"internet_store_sales.csv\")\n",
        "print(df)\n",
        "print(\"-\" * 50)\n",
        "\n"
      ],
      "metadata": {
        "colab": {
          "base_uri": "https://localhost:8080/"
        },
        "id": "6VNuULcgEXpT",
        "outputId": "2398fd80-bb15-4ce2-f70d-2ee1b6393ce8"
      },
      "execution_count": null,
      "outputs": [
        {
          "output_type": "stream",
          "name": "stdout",
          "text": [
            "=== 1. Читання оригінального файлу ===\n",
            "      order_id  customer_id  order_date shipping_date order_status  \\\n",
            "0       205154         9771  2024-07-12    2024-07-16      Pending   \n",
            "1       857862         4478  2024-09-27    2024-10-02      Shipped   \n",
            "2       561738         2773  2024-12-08    2024-12-13      Pending   \n",
            "3       415920         7307  2024-06-20    2024-06-24      Shipped   \n",
            "4       720670         6123  2024-12-31    2025-01-05      Pending   \n",
            "...        ...          ...         ...           ...          ...   \n",
            "4995    198541         8387  2024-10-14           NaN    Cancelled   \n",
            "4996    745614         6404  2024-08-19    2024-08-24      Pending   \n",
            "4997    688045         3555  2024-08-24    2024-08-26      Pending   \n",
            "4998    325529         6113  2024-11-18    2024-11-25      Pending   \n",
            "4999    404645         1656  2024-09-16           NaN     Returned   \n",
            "\n",
            "      total_amount  \n",
            "0           133.15  \n",
            "1           446.21  \n",
            "2           370.60  \n",
            "3           456.88  \n",
            "4           476.70  \n",
            "...            ...  \n",
            "4995        439.89  \n",
            "4996        235.24  \n",
            "4997         51.89  \n",
            "4998        198.17  \n",
            "4999        377.52  \n",
            "\n",
            "[5000 rows x 6 columns]\n",
            "--------------------------------------------------\n"
          ]
        }
      ]
    },
    {
      "cell_type": "code",
      "source": [
        "# 2. Створення копії файлу\n",
        "print(\"=== 2. Створення копії ===\")\n",
        "df.to_csv(\"internet_store_sales_copy.csv\", index=False)\n",
        "print(\" Копію створено як 'internet_store_sales_copy.csv'\")\n",
        "print(\"-\" * 50)\n"
      ],
      "metadata": {
        "colab": {
          "base_uri": "https://localhost:8080/"
        },
        "id": "U1VIEZahEgUv",
        "outputId": "1e9bba08-94c6-4175-c638-12de5487b891"
      },
      "execution_count": null,
      "outputs": [
        {
          "output_type": "stream",
          "name": "stdout",
          "text": [
            "=== 2. Створення копії ===\n",
            " Копію створено як 'internet_store_sales_copy.csv'\n",
            "--------------------------------------------------\n"
          ]
        }
      ]
    },
    {
      "cell_type": "code",
      "source": [
        "# 3. Запис у копію (перезапис всієї копії з новими даними)\n",
        "print(\"=== 3. Перезапис копії новими даними ===\")\n",
        "new_data = [\n",
        "    {\"Order ID\": 1001, \"Customer\": \"Olga\", \"Amount\": 200.0},\n",
        "    {\"Order ID\": 1002, \"Customer\": \"Petro\", \"Amount\": 250.0}\n",
        "]\n",
        "df_copy = pd.DataFrame(new_data)\n",
        "df_copy.to_csv(\"internet_store_sales_copy.csv\", index=False)\n",
        "print(\" Нові дані записано в копію:\")\n",
        "print(df_copy)\n",
        "print(\"-\" * 50)\n"
      ],
      "metadata": {
        "colab": {
          "base_uri": "https://localhost:8080/"
        },
        "id": "QfUS1vBCEscN",
        "outputId": "adec62fc-ff7f-480f-bce8-f748fac48a94"
      },
      "execution_count": null,
      "outputs": [
        {
          "output_type": "stream",
          "name": "stdout",
          "text": [
            "=== 3. Перезапис копії новими даними ===\n",
            " Нові дані записано в копію:\n",
            "   Order ID Customer  Amount\n",
            "0      1001     Olga   200.0\n",
            "1      1002    Petro   250.0\n",
            "--------------------------------------------------\n"
          ]
        }
      ]
    },
    {
      "cell_type": "code",
      "source": [
        "# 4. Додавання нового рядка до копії\n",
        "print(\"=== 4. Додавання нового рядка ===\")\n",
        "new_row = {\"Order ID\": 1003, \"Customer\": \"Ivan\", \"Amount\": 300.0}\n",
        "df_copy = pd.read_csv(\"internet_store_sales_copy.csv\")\n",
        "df_copy = pd.concat([df_copy, pd.DataFrame([new_row])], ignore_index=True)\n",
        "df_copy.to_csv(\"internet_store_sales_copy.csv\", index=False)\n",
        "print(\" Оновлений вміст копії після додавання:\")\n",
        "print(df_copy)\n",
        "print(\"-\" * 50)\n",
        "\n"
      ],
      "metadata": {
        "colab": {
          "base_uri": "https://localhost:8080/"
        },
        "id": "-RLN4JyoE6yq",
        "outputId": "53635352-5633-4b43-8fd6-e197990fa7cb"
      },
      "execution_count": null,
      "outputs": [
        {
          "output_type": "stream",
          "name": "stdout",
          "text": [
            "=== 4. Додавання нового рядка ===\n",
            " Оновлений вміст копії після додавання:\n",
            "   Order ID Customer  Amount\n",
            "0      1001     Olga   200.0\n",
            "1      1002    Petro   250.0\n",
            "2      1003     Ivan   300.0\n",
            "--------------------------------------------------\n"
          ]
        }
      ]
    },
    {
      "cell_type": "code",
      "source": [
        "# 5. Видалення рядка з Order ID = 1001\n",
        "print(\"=== 5. Видалення запису з Order ID = 1001 ===\")\n",
        "df_copy = pd.read_csv(\"internet_store_sales_copy.csv\")\n",
        "df_copy = df_copy[df_copy[\"Order ID\"] != 1001]\n",
        "df_copy.to_csv(\"internet_store_sales_copy.csv\", index=False)\n",
        "print(\" Оновлений вміст копії після видалення:\")\n",
        "print(df_copy)\n",
        "print(\"-\" * 50)\n"
      ],
      "metadata": {
        "colab": {
          "base_uri": "https://localhost:8080/"
        },
        "id": "igau_CFoCFhb",
        "outputId": "8305fb31-069d-46be-8442-53e10af90521"
      },
      "execution_count": null,
      "outputs": [
        {
          "output_type": "stream",
          "name": "stdout",
          "text": [
            "=== 5. Видалення запису з Order ID = 1001 ===\n",
            " Оновлений вміст копії після видалення:\n",
            "   Order ID Customer  Amount\n",
            "1      1002    Petro   250.0\n",
            "2      1003     Ivan   300.0\n",
            "--------------------------------------------------\n"
          ]
        }
      ]
    },
    {
      "cell_type": "markdown",
      "source": [
        "## 2.3. XLSX файл – internet_store_sales.xlsx"
      ],
      "metadata": {
        "id": "4PKJJDI_FKTN"
      }
    },
    {
      "cell_type": "code",
      "source": [
        "import pandas as pd\n",
        "\n",
        "# 1. Читання XLSX-файлу\n",
        "print(\"=== 1. Читання оригінального Excel-файлу ===\")\n",
        "df = pd.read_excel(\"internet_store_sales.xlsx\")\n",
        "print(df)\n",
        "print(\"-\" * 50)\n",
        "\n"
      ],
      "metadata": {
        "id": "YY1RKid-FVyr",
        "colab": {
          "base_uri": "https://localhost:8080/"
        },
        "outputId": "ce1c5a39-56ff-4556-fb66-959826a63c93"
      },
      "execution_count": null,
      "outputs": [
        {
          "output_type": "stream",
          "name": "stdout",
          "text": [
            "=== 1. Читання оригінального Excel-файлу ===\n",
            "      order_id  customer_id  order_date shipping_date order_status  \\\n",
            "0       205154         9771  2024-07-12    2024-07-16      Pending   \n",
            "1       857862         4478  2024-09-27    2024-10-02      Shipped   \n",
            "2       561738         2773  2024-12-08    2024-12-13      Pending   \n",
            "3       415920         7307  2024-06-20    2024-06-24      Shipped   \n",
            "4       720670         6123  2024-12-31    2025-01-05      Pending   \n",
            "...        ...          ...         ...           ...          ...   \n",
            "4995    198541         8387  2024-10-14           NaN    Cancelled   \n",
            "4996    745614         6404  2024-08-19    2024-08-24      Pending   \n",
            "4997    688045         3555  2024-08-24    2024-08-26      Pending   \n",
            "4998    325529         6113  2024-11-18    2024-11-25      Pending   \n",
            "4999    404645         1656  2024-09-16           NaN     Returned   \n",
            "\n",
            "      total_amount  \n",
            "0           133.15  \n",
            "1           446.21  \n",
            "2           370.60  \n",
            "3           456.88  \n",
            "4           476.70  \n",
            "...            ...  \n",
            "4995        439.89  \n",
            "4996        235.24  \n",
            "4997         51.89  \n",
            "4998        198.17  \n",
            "4999        377.52  \n",
            "\n",
            "[5000 rows x 6 columns]\n",
            "--------------------------------------------------\n"
          ]
        }
      ]
    },
    {
      "cell_type": "code",
      "source": [
        "# 2. Створення копії файлу\n",
        "print(\"=== 2. Створення копії ===\")\n",
        "df.to_excel(\"internet_store_sales_copy.xlsx\", index=False)\n",
        "print(\" Копію створено як 'internet_store_sales_copy.xlsx'\")\n",
        "print(\"-\" * 50)\n",
        "\n"
      ],
      "metadata": {
        "id": "hqjzCUoqFavK",
        "colab": {
          "base_uri": "https://localhost:8080/"
        },
        "outputId": "f7deab96-675d-4f22-e699-fd6e09079ccf"
      },
      "execution_count": null,
      "outputs": [
        {
          "output_type": "stream",
          "name": "stdout",
          "text": [
            "=== 2. Створення копії ===\n",
            " Копію створено як 'internet_store_sales_copy.xlsx'\n",
            "--------------------------------------------------\n"
          ]
        }
      ]
    },
    {
      "cell_type": "code",
      "source": [
        "# 3. Перезапис копії новими даними\n",
        "print(\"=== 3. Перезапис копії новими даними ===\")\n",
        "new_data = [\n",
        "    {\"Order ID\": 1001, \"Customer\": \"Olga\", \"Amount\": 200.0},\n",
        "    {\"Order ID\": 1002, \"Customer\": \"Petro\", \"Amount\": 250.0}\n",
        "]\n",
        "df_copy = pd.DataFrame(new_data)\n",
        "df_copy.to_excel(\"internet_store_sales_copy.xlsx\", index=False)\n",
        "print(\" Нові дані записано в копію:\")\n",
        "print(df_copy)\n",
        "print(\"-\" * 50)\n"
      ],
      "metadata": {
        "id": "4LD09BvcFjjP",
        "colab": {
          "base_uri": "https://localhost:8080/"
        },
        "outputId": "b1fe146d-d03f-4414-8b94-68fe9d46de2e"
      },
      "execution_count": null,
      "outputs": [
        {
          "output_type": "stream",
          "name": "stdout",
          "text": [
            "=== 3. Перезапис копії новими даними ===\n",
            " Нові дані записано в копію:\n",
            "   Order ID Customer  Amount\n",
            "0      1001     Olga   200.0\n",
            "1      1002    Petro   250.0\n",
            "--------------------------------------------------\n"
          ]
        }
      ]
    },
    {
      "cell_type": "code",
      "source": [
        "# 4. Додавання нового рядка до копії\n",
        "print(\"=== 4. Додавання нового рядка ===\")\n",
        "new_row = {\"Order ID\": 1003, \"Customer\": \"Ivan\", \"Amount\": 300.0}\n",
        "df_copy = pd.read_excel(\"internet_store_sales_copy.xlsx\")\n",
        "df_copy = pd.concat([df_copy, pd.DataFrame([new_row])], ignore_index=True)\n",
        "df_copy.to_excel(\"internet_store_sales_copy.xlsx\", index=False)\n",
        "print(\" Оновлений вміст копії після додавання:\")\n",
        "print(df_copy)\n",
        "print(\"-\" * 50)\n",
        "\n"
      ],
      "metadata": {
        "id": "sVuAhLCkFt5E",
        "colab": {
          "base_uri": "https://localhost:8080/"
        },
        "outputId": "f9587c61-0230-4b38-8be5-cfee22bde9ea"
      },
      "execution_count": null,
      "outputs": [
        {
          "output_type": "stream",
          "name": "stdout",
          "text": [
            "=== 4. Додавання нового рядка ===\n",
            " Оновлений вміст копії після додавання:\n",
            "   Order ID Customer  Amount\n",
            "0      1001     Olga   200.0\n",
            "1      1002    Petro   250.0\n",
            "2      1003     Ivan   300.0\n",
            "--------------------------------------------------\n"
          ]
        }
      ]
    },
    {
      "cell_type": "code",
      "source": [
        "# 5. Видалення рядка з Order ID = 1001\n",
        "print(\"=== 5. Видалення запису з Order ID = 1001 ===\")\n",
        "df_copy = pd.read_excel(\"internet_store_sales_copy.xlsx\")\n",
        "df_copy = df_copy[df_copy[\"Order ID\"] != 1001]\n",
        "df_copy.to_excel(\"internet_store_sales_copy.xlsx\", index=False)\n",
        "print(\" Оновлений вміст копії після видалення:\")\n",
        "print(df_copy)\n",
        "print(\"-\" * 50)\n"
      ],
      "metadata": {
        "colab": {
          "base_uri": "https://localhost:8080/"
        },
        "id": "03uASkQaDPOX",
        "outputId": "d12a0312-3df6-4867-8cc7-0698e42c5606"
      },
      "execution_count": null,
      "outputs": [
        {
          "output_type": "stream",
          "name": "stdout",
          "text": [
            "=== 5. Видалення запису з Order ID = 1001 ===\n",
            " Оновлений вміст копії після видалення:\n",
            "   Order ID Customer  Amount\n",
            "1      1002    Petro     250\n",
            "2      1003     Ivan     300\n",
            "--------------------------------------------------\n"
          ]
        }
      ]
    },
    {
      "cell_type": "markdown",
      "source": [
        "## 2.4. JSON-файл"
      ],
      "metadata": {
        "id": "KxodIvGYJqhy"
      }
    },
    {
      "cell_type": "code",
      "source": [
        "import json\n",
        "\n",
        "# 1. Відкриваємо оригінальний JSON-файл у режимі читання\n",
        "with open(\"internet_store_sales.json\", \"r\") as file:\n",
        "    data = json.load(file)  # Завантажуємо JSON-дані у змінну `data`\n",
        "\n",
        "# Виводимо перші 2 записи для перевірки\n",
        "print(\"=== 1. Читання JSON-файлу ===\")\n",
        "print(data[:2])\n",
        "print(\"-\" * 50)\n",
        "\n"
      ],
      "metadata": {
        "colab": {
          "base_uri": "https://localhost:8080/"
        },
        "id": "O88ZH0NcFOR2",
        "outputId": "798b2199-d3c9-43a5-c20e-8f05f979ed8f"
      },
      "execution_count": null,
      "outputs": [
        {
          "output_type": "stream",
          "name": "stdout",
          "text": [
            "=== 1. Читання JSON-файлу ===\n",
            "[{'order_id': 205154, 'customer_id': 9771, 'order_date': '2024-07-12', 'shipping_date': '2024-07-16', 'order_status': 'Pending', 'total_amount': 133.15}, {'order_id': 857862, 'customer_id': 4478, 'order_date': '2024-09-27', 'shipping_date': '2024-10-02', 'order_status': 'Shipped', 'total_amount': 446.21}]\n",
            "--------------------------------------------------\n"
          ]
        }
      ]
    },
    {
      "cell_type": "code",
      "source": [
        "# 2. Записуємо вміст у новий файл-копію\n",
        "with open(\"internet_store_sales_copy.json\", \"w\") as file:\n",
        "    json.dump(data, file, indent=4)  # indent=4 — для гарного форматування\n",
        "\n",
        "print(\"=== 2. Копія створена ===\")\n",
        "print(\"Файл 'internet_store_sales_copy.json' створено.\")\n",
        "print(\"-\" * 50)\n"
      ],
      "metadata": {
        "colab": {
          "base_uri": "https://localhost:8080/"
        },
        "id": "841bMQePuP5N",
        "outputId": "56dcc34c-6b6c-435f-be15-6a0f76da2ff9"
      },
      "execution_count": null,
      "outputs": [
        {
          "output_type": "stream",
          "name": "stdout",
          "text": [
            "=== 2. Копія створена ===\n",
            "Файл 'internet_store_sales_copy.json' створено.\n",
            "--------------------------------------------------\n"
          ]
        }
      ]
    },
    {
      "cell_type": "code",
      "source": [
        "# 3. Створюємо нові тестові дані (оновлений вміст)\n",
        "new_data = [\n",
        "    {\n",
        "        \"order_id\": 999001,\n",
        "        \"customer_id\": 1,\n",
        "        \"order_date\": \"2025-01-01\",\n",
        "        \"shipping_date\": \"2025-01-05\",\n",
        "        \"order_status\": \"Pending\",\n",
        "        \"total_amount\": 123.45\n",
        "    }\n",
        "]\n",
        "\n",
        "# Записуємо нові дані у копію\n",
        "with open(\"internet_store_sales_copy.json\", \"w\") as file:\n",
        "    json.dump(new_data, file, indent=4)\n",
        "\n",
        "print(\"=== 3. Копія перезаписана новими даними ===\")\n",
        "print(new_data)\n",
        "print(\"-\" * 50)\n"
      ],
      "metadata": {
        "colab": {
          "base_uri": "https://localhost:8080/"
        },
        "id": "FIF2QMdouedP",
        "outputId": "8ac3ceb0-776f-4063-bd25-e9cd5b19e5da"
      },
      "execution_count": null,
      "outputs": [
        {
          "output_type": "stream",
          "name": "stdout",
          "text": [
            "=== 3. Копія перезаписана новими даними ===\n",
            "[{'order_id': 999001, 'customer_id': 1, 'order_date': '2025-01-01', 'shipping_date': '2025-01-05', 'order_status': 'Pending', 'total_amount': 123.45}]\n",
            "--------------------------------------------------\n"
          ]
        }
      ]
    },
    {
      "cell_type": "code",
      "source": [
        "# 4. Зчитуємо існуючі дані з копії\n",
        "with open(\"internet_store_sales_copy.json\", \"r\") as file:\n",
        "    data = json.load(file)\n",
        "\n",
        "# Додаємо новий запис\n",
        "new_record = {\n",
        "    \"order_id\": 999002,\n",
        "    \"customer_id\": 2,\n",
        "    \"order_date\": \"2025-01-02\",\n",
        "    \"shipping_date\": \"2025-01-06\",\n",
        "    \"order_status\": \"Shipped\",\n",
        "    \"total_amount\": 456.78\n",
        "}\n",
        "data.append(new_record)\n",
        "\n",
        "# Записуємо назад у файл\n",
        "with open(\"internet_store_sales_copy.json\", \"w\") as file:\n",
        "    json.dump(data, file, indent=4)\n",
        "\n",
        "print(\"=== 4. Додано новий запис до копії ===\")\n",
        "print(data)\n",
        "print(\"-\" * 50)\n"
      ],
      "metadata": {
        "colab": {
          "base_uri": "https://localhost:8080/"
        },
        "id": "4bUOJ6S0uisA",
        "outputId": "982cfbd2-61f1-4478-fced-9f03f12c8f9a"
      },
      "execution_count": null,
      "outputs": [
        {
          "output_type": "stream",
          "name": "stdout",
          "text": [
            "=== 4. Додано новий запис до копії ===\n",
            "[{'order_id': 999001, 'customer_id': 1, 'order_date': '2025-01-01', 'shipping_date': '2025-01-05', 'order_status': 'Pending', 'total_amount': 123.45}, {'order_id': 999002, 'customer_id': 2, 'order_date': '2025-01-02', 'shipping_date': '2025-01-06', 'order_status': 'Shipped', 'total_amount': 456.78}]\n",
            "--------------------------------------------------\n"
          ]
        }
      ]
    },
    {
      "cell_type": "code",
      "source": [
        "# 5. Зчитуємо поточні дані\n",
        "with open(\"internet_store_sales_copy.json\", \"r\") as file:\n",
        "    data = json.load(file)\n",
        "\n",
        "# Видаляємо запис, де order_id дорівнює 999001\n",
        "data = [entry for entry in data if entry[\"order_id\"] != 999001]\n",
        "\n",
        "# Записуємо результат у файл\n",
        "with open(\"internet_store_sales_copy.json\", \"w\") as file:\n",
        "    json.dump(data, file, indent=4)\n",
        "\n",
        "print(\"=== 5. Видалено запис з order_id = 999001 ===\")\n",
        "print(data)\n",
        "print(\"-\" * 50)\n"
      ],
      "metadata": {
        "id": "7zntlPjYum88",
        "outputId": "3d72bc60-9464-4021-8f04-75edc66fb344",
        "colab": {
          "base_uri": "https://localhost:8080/"
        }
      },
      "execution_count": null,
      "outputs": [
        {
          "output_type": "stream",
          "name": "stdout",
          "text": [
            "=== 5. Видалено запис з order_id = 999001 ===\n",
            "[{'order_id': 999002, 'customer_id': 2, 'order_date': '2025-01-02', 'shipping_date': '2025-01-06', 'order_status': 'Shipped', 'total_amount': 456.78}]\n",
            "--------------------------------------------------\n"
          ]
        }
      ]
    },
    {
      "cell_type": "markdown",
      "source": [
        "# Підсумковий блок завершення роботи з файлами"
      ],
      "metadata": {
        "id": "wNzP4sFRfL48"
      }
    },
    {
      "cell_type": "code",
      "source": [
        "# Закриваємо середовище і очищаємо завантажені файли - щоб якщо написав код і десь натупив, коли перевіряв - очистити все і повторити заново\n",
        "\n",
        "import os\n",
        "\n",
        "# Список файлів, які ми створювали/змінювали\n",
        "files_to_remove = [\n",
        "    \"example.txt\",\n",
        "    \"internet_store_sales.csv\",\n",
        "    \"internet_store_sales.xlsx\",\n",
        "    \"internet_store_sales.json\"\n",
        "]\n",
        "\n",
        "# Видалення файлів, якщо вони існують\n",
        "for filename in files_to_remove:\n",
        "    if os.path.exists(filename):\n",
        "        os.remove(filename)\n",
        "        print(f\" Файл {filename} видалено.\")\n",
        "    else:\n",
        "        print(f\" Файл {filename} не знайдено.\")\n",
        "\n",
        "# Повідомлення про завершення\n",
        "print(\"\\n Усі файли очищено. Домашнє завдання завершено!\")\n"
      ],
      "metadata": {
        "colab": {
          "base_uri": "https://localhost:8080/"
        },
        "id": "9zHiGWKUfQwx",
        "outputId": "d54fb771-b943-4322-e784-4b48d1a5ba8f"
      },
      "execution_count": null,
      "outputs": [
        {
          "output_type": "stream",
          "name": "stdout",
          "text": [
            " Файл example.txt видалено.\n",
            " Файл internet_store_sales.csv видалено.\n",
            " Файл internet_store_sales.xlsx видалено.\n",
            " Файл internet_store_sales.json видалено.\n",
            "\n",
            " Усі файли очищено. Домашнє завдання завершено!\n"
          ]
        }
      ]
    }
  ]
}