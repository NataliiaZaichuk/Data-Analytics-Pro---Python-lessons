{
  "nbformat": 4,
  "nbformat_minor": 0,
  "metadata": {
    "colab": {
      "provenance": []
    },
    "kernelspec": {
      "name": "python3",
      "display_name": "Python 3"
    },
    "language_info": {
      "name": "python"
    }
  },
  "cells": [
    {
      "cell_type": "code",
      "execution_count": null,
      "metadata": {
        "colab": {
          "base_uri": "https://localhost:8080/"
        },
        "id": "nxEil9Ts25dm",
        "outputId": "03327d2a-4f13-4c20-8969-9ff3c1af9f5c"
      },
      "outputs": [
        {
          "output_type": "stream",
          "name": "stdout",
          "text": [
            "3\n"
          ]
        }
      ],
      "source": [
        "#1.Як отримати остачу від ділення 7 на 4?\n",
        "a=7%4\n",
        "print(a)"
      ]
    },
    {
      "cell_type": "code",
      "source": [
        "#2. Як отримати перші 7 символів рядка?\n",
        "text =\"0123456789\"\n",
        "first_7 = text[:7]  # Слайс з початку до 7-го символа\n",
        "print(first_7)"
      ],
      "metadata": {
        "colab": {
          "base_uri": "https://localhost:8080/"
        },
        "id": "n6rf-14p3Q4Q",
        "outputId": "6cf48e5f-9e82-4ea2-f3c9-acd84e8c1541"
      },
      "execution_count": null,
      "outputs": [
        {
          "output_type": "stream",
          "name": "stdout",
          "text": [
            "0123456\n"
          ]
        }
      ]
    },
    {
      "cell_type": "code",
      "source": [
        "#3. Як отримати передостанні два символи рядка?\n",
        "text =\"0123456789\"\n",
        "penultimate_2=text[-3:-1]\n",
        "print(penultimate_2)"
      ],
      "metadata": {
        "colab": {
          "base_uri": "https://localhost:8080/"
        },
        "id": "utlC8nOI3mgp",
        "outputId": "c041c1c9-f4e2-4da2-bbd6-807be2471557"
      },
      "execution_count": null,
      "outputs": [
        {
          "output_type": "stream",
          "name": "stdout",
          "text": [
            "78\n"
          ]
        }
      ]
    },
    {
      "cell_type": "code",
      "source": [
        "#4. Чому дорівнює А?\n",
        "a=2\n",
        "a+=8\n",
        "print(a)"
      ],
      "metadata": {
        "colab": {
          "base_uri": "https://localhost:8080/"
        },
        "id": "xJ11amTt5Zw_",
        "outputId": "f0d51cd9-2784-47b8-ed78-7121976119a4"
      },
      "execution_count": null,
      "outputs": [
        {
          "output_type": "stream",
          "name": "stdout",
          "text": [
            "10\n"
          ]
        }
      ]
    },
    {
      "cell_type": "code",
      "source": [
        "#5. Що виведе цей рядок?\n",
        "(2>0)==True # 2>0"
      ],
      "metadata": {
        "colab": {
          "base_uri": "https://localhost:8080/"
        },
        "id": "R4EISlNT5u9D",
        "outputId": "d114b3fd-bb07-4493-f695-ed21ac5b2086"
      },
      "execution_count": null,
      "outputs": [
        {
          "output_type": "execute_result",
          "data": {
            "text/plain": [
              "True"
            ]
          },
          "metadata": {},
          "execution_count": 9
        }
      ]
    },
    {
      "cell_type": "code",
      "source": [
        "#6. Що виведе цей рядок?\n",
        "False !=(5<10)"
      ],
      "metadata": {
        "colab": {
          "base_uri": "https://localhost:8080/"
        },
        "id": "3w0MgZ145gBk",
        "outputId": "536e8148-6b9c-4280-edfa-2aa8a8d59dc5"
      },
      "execution_count": null,
      "outputs": [
        {
          "output_type": "execute_result",
          "data": {
            "text/plain": [
              "True"
            ]
          },
          "metadata": {},
          "execution_count": 10
        }
      ]
    },
    {
      "cell_type": "code",
      "source": [
        "#7. Що це за data type?\n",
        "my_set = {1, 2, 5, 'apple'}\n",
        "print(my_set)\n",
        "print(type(my_set))"
      ],
      "metadata": {
        "colab": {
          "base_uri": "https://localhost:8080/"
        },
        "id": "V_rzcfpB6e3X",
        "outputId": "426aa3fb-2b88-4ea4-94d2-08801cb4e7fd"
      },
      "execution_count": null,
      "outputs": [
        {
          "output_type": "stream",
          "name": "stdout",
          "text": [
            "{1, 2, 5, 'apple'}\n",
            "<class 'set'>\n"
          ]
        }
      ]
    },
    {
      "cell_type": "code",
      "source": [
        "#8. Як перевірити чи 7 є в списку [1, 2, 3]?\n",
        "numbers = [1, 2, 3]\n",
        "print('7',7 in numbers)     # False\n",
        "print('2',2 in numbers)     # True\n"
      ],
      "metadata": {
        "colab": {
          "base_uri": "https://localhost:8080/"
        },
        "id": "lSqmI09Y7Knw",
        "outputId": "839378cd-f5e1-459b-c651-f1dccd1dc9d8"
      },
      "execution_count": null,
      "outputs": [
        {
          "output_type": "stream",
          "name": "stdout",
          "text": [
            "7 False\n",
            "2 True\n"
          ]
        }
      ]
    },
    {
      "cell_type": "code",
      "source": [
        "#9. Повернути ідентифікатор об'єкта\n",
        "a = [1, 2, 3]\n",
        "b = a\n",
        "\n",
        "print(id(a) == id(b))  # True, бо b — це той самий об'єкт, що й a\n",
        "\n",
        "c = [1, 2, 3]\n",
        "print(id(a) == id(c))  # False, бо c — це вже інший об'єкт з таким же вмістом\n"
      ],
      "metadata": {
        "colab": {
          "base_uri": "https://localhost:8080/"
        },
        "id": "1e1N4bkk7jJl",
        "outputId": "5a627c3c-0733-41ed-bff9-3d0668caa2b0"
      },
      "execution_count": null,
      "outputs": [
        {
          "output_type": "stream",
          "name": "stdout",
          "text": [
            "True\n",
            "False\n"
          ]
        }
      ]
    },
    {
      "cell_type": "code",
      "source": [
        "#10. Повернути алфавітно впорядкований список атрибутів\n",
        "text =\"Readability counts\"  # Зрозумілість має значення\n",
        "# Отримуємо список атрибутів\n",
        "attributes = dir(text)\n",
        "\n",
        "# Сортуємо алфавітно\n",
        "sorted_attributes = sorted(attributes)\n",
        "\n",
        "# Виводимо результат\n",
        "print(sorted_attributes)\n",
        "\n"
      ],
      "metadata": {
        "colab": {
          "base_uri": "https://localhost:8080/"
        },
        "id": "D9MlZyGN8FN_",
        "outputId": "5d239c01-0148-45bf-936f-5133cbffa5a8"
      },
      "execution_count": null,
      "outputs": [
        {
          "output_type": "stream",
          "name": "stdout",
          "text": [
            "['__add__', '__class__', '__contains__', '__delattr__', '__dir__', '__doc__', '__eq__', '__format__', '__ge__', '__getattribute__', '__getitem__', '__getnewargs__', '__getstate__', '__gt__', '__hash__', '__init__', '__init_subclass__', '__iter__', '__le__', '__len__', '__lt__', '__mod__', '__mul__', '__ne__', '__new__', '__reduce__', '__reduce_ex__', '__repr__', '__rmod__', '__rmul__', '__setattr__', '__sizeof__', '__str__', '__subclasshook__', 'capitalize', 'casefold', 'center', 'count', 'encode', 'endswith', 'expandtabs', 'find', 'format', 'format_map', 'index', 'isalnum', 'isalpha', 'isascii', 'isdecimal', 'isdigit', 'isidentifier', 'islower', 'isnumeric', 'isprintable', 'isspace', 'istitle', 'isupper', 'join', 'ljust', 'lower', 'lstrip', 'maketrans', 'partition', 'removeprefix', 'removesuffix', 'replace', 'rfind', 'rindex', 'rjust', 'rpartition', 'rsplit', 'rstrip', 'split', 'splitlines', 'startswith', 'strip', 'swapcase', 'title', 'translate', 'upper', 'zfill']\n"
          ]
        }
      ]
    },
    {
      "cell_type": "code",
      "source": [
        "#11. Повернути тип об'єкта\n",
        "print(type(5))           # <class 'int'>\n",
        "print(type(3.14))        # <class 'float'>\n",
        "print(type(\"hello\"))     # <class 'str'>\n",
        "print(type([1, 2, 3]))    # <class 'list'>\n",
        "print(type({'a': 1}))     # <class 'dict'>\n"
      ],
      "metadata": {
        "colab": {
          "base_uri": "https://localhost:8080/"
        },
        "id": "ZbAvYi6p-f4A",
        "outputId": "611f2dcf-eef1-4ee5-9e1b-c8d973d7ccd4"
      },
      "execution_count": null,
      "outputs": [
        {
          "output_type": "stream",
          "name": "stdout",
          "text": [
            "<class 'int'>\n",
            "<class 'float'>\n",
            "<class 'str'>\n",
            "<class 'list'>\n",
            "<class 'dict'>\n"
          ]
        }
      ]
    },
    {
      "cell_type": "code",
      "source": [
        "#12. Як перевірити, чи рядок не порожній?\n",
        "text = \"Hello\"\n",
        "if len(text) > 0:\n",
        "    print(\"Рядок не порожній\")\n"
      ],
      "metadata": {
        "colab": {
          "base_uri": "https://localhost:8080/"
        },
        "id": "MaLIJjs4-ocE",
        "outputId": "c1342405-9917-4bcc-ab99-98ee0a82828c"
      },
      "execution_count": null,
      "outputs": [
        {
          "output_type": "stream",
          "name": "stdout",
          "text": [
            "Рядок не порожній\n"
          ]
        }
      ]
    },
    {
      "cell_type": "code",
      "source": [
        "#13. Як отримати перший елемент списку?\n",
        "numbers = [1, 2, 3]\n",
        "print(numbers[:1])"
      ],
      "metadata": {
        "colab": {
          "base_uri": "https://localhost:8080/"
        },
        "id": "Z6MVjMdAAmIJ",
        "outputId": "f10c41ef-9c6c-40c2-fb25-7c4c4f091866"
      },
      "execution_count": null,
      "outputs": [
        {
          "output_type": "stream",
          "name": "stdout",
          "text": [
            "[1]\n"
          ]
        }
      ]
    },
    {
      "cell_type": "code",
      "source": [
        "#14. Як додати елемент до списку?\n",
        "a=[1,2,3,4,5,6,7,8,9,0]\n",
        "a.append('неочікуванно якийсь текст')\n",
        "print(a)"
      ],
      "metadata": {
        "colab": {
          "base_uri": "https://localhost:8080/"
        },
        "id": "sTSX9UH9A_c3",
        "outputId": "03bc6a2d-0d2a-4940-b962-557dc27446ae"
      },
      "execution_count": null,
      "outputs": [
        {
          "output_type": "stream",
          "name": "stdout",
          "text": [
            "[1, 2, 3, 4, 5, 6, 7, 8, 9, 0, 'неочікуванно якийсь текст']\n"
          ]
        }
      ]
    },
    {
      "cell_type": "code",
      "source": [
        "#15. Як перевірити, чи рядок є числом?\n",
        "#a=[1,2,3,4,5,6,7,8,9,0]   # не спрацює, бо функція працює для рядка, а тут список\n",
        "#print(a.isnumeric())\n",
        "\n",
        "text = \"12345\" #а тут спрацює\n",
        "print(text.isnumeric())  # True"
      ],
      "metadata": {
        "colab": {
          "base_uri": "https://localhost:8080/"
        },
        "id": "k94uuVEbBQl1",
        "outputId": "0c1866c3-51f8-4eaa-960f-9cbe1e383132"
      },
      "execution_count": null,
      "outputs": [
        {
          "output_type": "stream",
          "name": "stdout",
          "text": [
            "True\n"
          ]
        }
      ]
    },
    {
      "cell_type": "markdown",
      "source": [
        "**Основні типи алгоритмів**"
      ],
      "metadata": {
        "id": "DzRFDND6IYCH"
      }
    },
    {
      "cell_type": "code",
      "source": [
        "#1. Послідовний алгоритм -  Дії виконуються одна за одною, без умов і повторень.\n",
        "print(\"Ввімкнути комп'ютер\")\n",
        "print(\"Відкрити браузер\")\n",
        "print(\"Зайти в Google\")\n"
      ],
      "metadata": {
        "colab": {
          "base_uri": "https://localhost:8080/"
        },
        "id": "RVm8NpFEIHE6",
        "outputId": "f7bab540-6c92-4b4a-a0ce-37346d3766d8"
      },
      "execution_count": null,
      "outputs": [
        {
          "output_type": "stream",
          "name": "stdout",
          "text": [
            "Ввімкнути комп'ютер\n",
            "Відкрити браузер\n",
            "Зайти в Google\n"
          ]
        }
      ]
    },
    {
      "cell_type": "code",
      "source": [
        "#2. Розгалуження (умови) -  Виконуються різні дії в залежності від умови.\n",
        "x = 5\n",
        "if x > 0:\n",
        "    print(\"Число додатнє\")\n",
        "else:\n",
        "    print(\"Число від'ємне або нуль\")\n"
      ],
      "metadata": {
        "colab": {
          "base_uri": "https://localhost:8080/"
        },
        "id": "ORHBcwUqIcgI",
        "outputId": "8239077a-ab26-45ce-86c6-7864180099f0"
      },
      "execution_count": null,
      "outputs": [
        {
          "output_type": "stream",
          "name": "stdout",
          "text": [
            "Число додатнє\n"
          ]
        }
      ]
    },
    {
      "cell_type": "code",
      "source": [
        "#3.  Цикли - Повторення дій багато разів.\n",
        "for i in range(3):\n",
        "    print(\"Hello!\")\n",
        "\n",
        "# або\n",
        "\n",
        "i = 0\n",
        "while i < 3:\n",
        "    print(\"Hi!\")\n",
        "    i += 1\n"
      ],
      "metadata": {
        "colab": {
          "base_uri": "https://localhost:8080/"
        },
        "id": "QwKwtQz9IyTO",
        "outputId": "735d96db-f060-4ade-9bc8-5917afb24e93"
      },
      "execution_count": null,
      "outputs": [
        {
          "output_type": "stream",
          "name": "stdout",
          "text": [
            "Hello!\n",
            "Hello!\n",
            "Hello!\n",
            "Hi!\n",
            "Hi!\n",
            "Hi!\n"
          ]
        }
      ]
    },
    {
      "cell_type": "code",
      "source": [
        "'''Конструкція if-elif-else (+ логічні операції)\n",
        "if — якщо умова істинна\n",
        "elif — якщо перша умова не істинна, перевір наступну\n",
        "else — якщо жодна умова не істинна'''\n",
        "\n",
        "age = 18\n",
        "\n",
        "if age < 18:\n",
        "    print(\"Ти підліток\")\n",
        "elif age == 18:\n",
        "    print(\"Тобі 18 років!\")\n",
        "else:\n",
        "    print(\"Ти дорослий\")\n"
      ],
      "metadata": {
        "colab": {
          "base_uri": "https://localhost:8080/"
        },
        "id": "i-FDfHfLJDjF",
        "outputId": "a7059ea4-e496-4206-f9f4-c15c42ab477b"
      },
      "execution_count": null,
      "outputs": [
        {
          "output_type": "stream",
          "name": "stdout",
          "text": [
            "Тобі 18 років!\n"
          ]
        }
      ]
    },
    {
      "cell_type": "code",
      "source": [
        "''' Логічні оператори:\n",
        "\n",
        "Оператор\tЩо робить\tПриклад\n",
        "and\tІ обидві умови мають бути істинними\tage > 18 and age < 30\n",
        "or\tАбо одна з умов істинна\tage < 18 or age > 65\n",
        "not\tЗаперечення\tnot(age > 18)'''"
      ],
      "metadata": {
        "id": "pPj-SoMgJKLD"
      },
      "execution_count": null,
      "outputs": []
    },
    {
      "cell_type": "code",
      "source": [
        "# Цикли for і while\n",
        "#  for — коли знаємо кількість повторень\n",
        "#Виведе числа від 0 до 4.\n",
        "for i in range(5):\n",
        "    print(i)\n"
      ],
      "metadata": {
        "colab": {
          "base_uri": "https://localhost:8080/"
        },
        "id": "citV22xhJU0b",
        "outputId": "06d35fcb-466d-49a9-a2cc-b6356189a019"
      },
      "execution_count": null,
      "outputs": [
        {
          "output_type": "stream",
          "name": "stdout",
          "text": [
            "0\n",
            "1\n",
            "2\n",
            "3\n",
            "4\n"
          ]
        }
      ]
    },
    {
      "cell_type": "code",
      "source": [
        "# while — поки умова істинна\n",
        "#Поки i менше 5, буде друкувати і збільшувати i.\n",
        "i = 0\n",
        "while i < 5:\n",
        "    print(i)\n",
        "    i += 1\n"
      ],
      "metadata": {
        "colab": {
          "base_uri": "https://localhost:8080/"
        },
        "id": "Oro8K7o5Jkn2",
        "outputId": "ef6296db-3536-4830-a125-4cfdfc008d92"
      },
      "execution_count": null,
      "outputs": [
        {
          "output_type": "stream",
          "name": "stdout",
          "text": [
            "0\n",
            "1\n",
            "2\n",
            "3\n",
            "4\n"
          ]
        }
      ]
    },
    {
      "cell_type": "code",
      "source": [
        "#Методи до рядків - Методи — це такі \"функції\", які працюють з рядками (str).\n",
        "''' Метод\tЩо робить\tПриклад\n",
        "lower()\tПеретворює на маленькі літери\t\"Hello\".lower() → \"hello\"\n",
        "upper()\tПеретворює на великі літери\t\"hello\".upper() → \"HELLO\"\n",
        "strip()\tВидаляє пробіли спочатку і в кінці\t\" hello \".strip() → \"hello\"\n",
        "replace(old, new)\tЗамінює частини рядка\t\"Hi World\".replace(\"World\", \"Python\")\n",
        "find(substring)\tПовертає позицію підрядка\t\"Python\".find(\"th\") → 2\n",
        "split()\tРозділяє рядок у список\t\"a,b,c\".split(\",\") → ['a', 'b', 'c'] '''"
      ],
      "metadata": {
        "id": "Ejv0qdR4J1N8"
      },
      "execution_count": null,
      "outputs": []
    },
    {
      "cell_type": "code",
      "source": [],
      "metadata": {
        "id": "n3p45AoxWa9m"
      },
      "execution_count": null,
      "outputs": []
    }
  ]
}