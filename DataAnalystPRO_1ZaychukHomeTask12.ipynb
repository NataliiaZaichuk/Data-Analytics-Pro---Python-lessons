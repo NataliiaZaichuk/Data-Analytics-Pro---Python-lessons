{
  "nbformat": 4,
  "nbformat_minor": 0,
  "metadata": {
    "colab": {
      "provenance": [],
      "toc_visible": true
    },
    "kernelspec": {
      "name": "python3",
      "display_name": "Python 3"
    },
    "language_info": {
      "name": "python"
    }
  },
  "cells": [
    {
      "cell_type": "code",
      "execution_count": null,
      "metadata": {
        "id": "HjP-thegUj8E"
      },
      "outputs": [],
      "source": []
    },
    {
      "cell_type": "markdown",
      "source": [
        "# 1 Вивести всі числа від 1 до 100, що діляться на 5"
      ],
      "metadata": {
        "id": "JbLl9jEUUtuN"
      }
    },
    {
      "cell_type": "code",
      "source": [
        "# Вивести всі числа від 1 до 100, що діляться на 5\n",
        "# Цикли for /while\n",
        "# for — коли знаємо кількість повторень ( Виведе наприклад числа від 0 до 4.)\n",
        "# while — поки умова істинна ( Поки i менше 5, буде друкувати і збільшувати i.)"
      ],
      "metadata": {
        "id": "KaZMzQbQZqn3"
      },
      "execution_count": null,
      "outputs": []
    },
    {
      "cell_type": "code",
      "source": [
        "# Вивести всі числа від 1 до 100, що діляться на 5\n",
        "#for\n",
        "for i in range(1,101):       #якщо вказати 101 - то виведе всі числа, що діляться на 5 без остачі, включаючи 100\n",
        "  if i%5==0:\n",
        "    print(i)"
      ],
      "metadata": {
        "id": "G4vkq09RaFs1",
        "colab": {
          "base_uri": "https://localhost:8080/"
        },
        "outputId": "140b2536-ee94-4bfd-8c5f-36d5a6bc7b5a"
      },
      "execution_count": null,
      "outputs": [
        {
          "output_type": "stream",
          "name": "stdout",
          "text": [
            "5\n",
            "10\n",
            "15\n",
            "20\n",
            "25\n",
            "30\n",
            "35\n",
            "40\n",
            "45\n",
            "50\n",
            "55\n",
            "60\n",
            "65\n",
            "70\n",
            "75\n",
            "80\n",
            "85\n",
            "90\n",
            "95\n",
            "100\n"
          ]
        }
      ]
    },
    {
      "cell_type": "code",
      "source": [
        "# Вивести всі числа від 1 до 100, що діляться на 5\n",
        "#while\n",
        "\n",
        "i=1\n",
        "while i<=100:\n",
        "  if i%5==0:\n",
        "    print(i)\n",
        "  i+=1\n"
      ],
      "metadata": {
        "colab": {
          "base_uri": "https://localhost:8080/"
        },
        "id": "hQiylTBsa72u",
        "outputId": "83a8f254-048e-4404-9896-3dc78affadd4"
      },
      "execution_count": null,
      "outputs": [
        {
          "output_type": "stream",
          "name": "stdout",
          "text": [
            "5\n",
            "10\n",
            "15\n",
            "20\n",
            "25\n",
            "30\n",
            "35\n",
            "40\n",
            "45\n",
            "50\n",
            "55\n",
            "60\n",
            "65\n",
            "70\n",
            "75\n",
            "80\n",
            "85\n",
            "90\n",
            "95\n",
            "100\n"
          ]
        }
      ]
    },
    {
      "cell_type": "markdown",
      "source": [
        "# 2 Запитати у користувача число і вивести повідомлення, чи є воно парним або непарним"
      ],
      "metadata": {
        "id": "4Q7thggBeqhJ"
      }
    },
    {
      "cell_type": "code",
      "source": [
        "# Запитати у користувача число і вивести повідомлення, чи є воно парним або непарним\n",
        "number = int(input(\"Введіть число: \"))\n",
        "\n",
        "if number % 2 == 0:\n",
        "    print(\"Число парне\")\n",
        "else:\n",
        "    print(\"Число непарне\")"
      ],
      "metadata": {
        "colab": {
          "base_uri": "https://localhost:8080/"
        },
        "id": "21Fp0fN_fP7I",
        "outputId": "56e85f80-b090-4742-a2a6-1a5741f87c50"
      },
      "execution_count": null,
      "outputs": [
        {
          "output_type": "stream",
          "name": "stdout",
          "text": [
            "Введіть число: 8\n",
            "Число парне\n"
          ]
        }
      ]
    },
    {
      "cell_type": "markdown",
      "source": [
        "# 3 Вивести суму чисел від 1 до 50"
      ],
      "metadata": {
        "id": "cF7a4AEFgHie"
      }
    },
    {
      "cell_type": "code",
      "source": [
        "# Вивести суму чисел від 1 до 50\n",
        "# вбудована функція - sum(): Sum of elements.\n",
        "\n",
        "numbers = list(range(1, 51))   # список чисел від 1 до 50\n",
        "total = sum(numbers)           # сума всіх чисел\n",
        "print(\"Сума чисел від 1 до 50:\", total)"
      ],
      "metadata": {
        "colab": {
          "base_uri": "https://localhost:8080/"
        },
        "id": "zvogyXh-gPvJ",
        "outputId": "92fea318-4917-4683-f8fb-94ba5c730ade"
      },
      "execution_count": null,
      "outputs": [
        {
          "output_type": "stream",
          "name": "stdout",
          "text": [
            "Сума чисел від 1 до 50: 1275\n"
          ]
        }
      ]
    },
    {
      "cell_type": "code",
      "source": [
        "# Вивести суму чисел від 1 до 50\n",
        "# через вбудована функція - sum(): Sum of elements та F-string(F-strings (форматовані рядки) були введені в Python 3.6 і є простим та зручним способом форматування рядків.):\n",
        "\n",
        "total_sum = sum(range(1, 51))                                # Обчислення суми чисел від 1 до 50\n",
        "result = f\"The sum of numbers from 1 to 50 is {total_sum}.\"  # Використання F-string для виводу результату\n",
        "print(result)"
      ],
      "metadata": {
        "colab": {
          "base_uri": "https://localhost:8080/"
        },
        "id": "gEv-7o5KjPjG",
        "outputId": "9a7069ef-1933-46e1-d5f5-9055c5a74372"
      },
      "execution_count": null,
      "outputs": [
        {
          "output_type": "stream",
          "name": "stdout",
          "text": [
            "The sum of numbers from 1 to 50 is 1275.\n"
          ]
        }
      ]
    },
    {
      "cell_type": "code",
      "source": [
        "# Вивести суму чисел від 1 до 50\n",
        "# через цикл for:\n",
        "total = 0                   # Створюємо змінну для суми\n",
        "for i in range(1, 51):       # Перебираємо числа від 1 до 50\n",
        "    total += i               # Додаємо кожне число до загальної суми\n",
        "\n",
        "print(\"Сума чисел від 1 до 50:\", total)"
      ],
      "metadata": {
        "colab": {
          "base_uri": "https://localhost:8080/"
        },
        "id": "qDPLBiU7jBw5",
        "outputId": "e25b313f-7fae-4c32-d694-1928eee45553"
      },
      "execution_count": null,
      "outputs": [
        {
          "output_type": "stream",
          "name": "stdout",
          "text": [
            "Сума чисел від 1 до 50: 1275\n"
          ]
        }
      ]
    },
    {
      "cell_type": "markdown",
      "source": [
        "# 4 Створити список чисел від 1 до 10 і за допомогою циклу for вивести всі числа, які більше 5"
      ],
      "metadata": {
        "id": "7hJucUWxjkm9"
      }
    },
    {
      "cell_type": "code",
      "source": [
        "# Створити список чисел від 1 до 10 і за допомогою циклу for вивести всі числа, які більше 5\n",
        "\n",
        "numbers = list(range(1, 11))   # список чисел від 1 до 11\n",
        "\n",
        "for number in numbers:         # Проходимося по кожному числу в списку\n",
        "    if number > 5:             # Якщо число більше 5\n",
        "        print(number)          # Виводимо його"
      ],
      "metadata": {
        "colab": {
          "base_uri": "https://localhost:8080/"
        },
        "id": "Mi5VQPBhjiD7",
        "outputId": "2541175a-c795-4694-c08e-2d9449f34511"
      },
      "execution_count": null,
      "outputs": [
        {
          "output_type": "stream",
          "name": "stdout",
          "text": [
            "6\n",
            "7\n",
            "8\n",
            "9\n",
            "10\n"
          ]
        }
      ]
    },
    {
      "cell_type": "markdown",
      "source": [
        "# 5 Перевірити, чи є введене користувачем число більше за 10, і вивести відповідне повідомлення"
      ],
      "metadata": {
        "id": "KW2L9GIglFU7"
      }
    },
    {
      "cell_type": "code",
      "source": [
        "# Перевірити, чи є введене користувачем число більше за 10, і вивести відповідне повідомлення\n",
        "number = int(input(\"Введіть число:\"))\n",
        "\n",
        "if number > 10:\n",
        "  print(\"Це число більше 10\")\n",
        "elif number == 10:\n",
        "  print(\"Це число 10\")\n",
        "else:\n",
        "  print(\"Це число менше 10\")"
      ],
      "metadata": {
        "colab": {
          "base_uri": "https://localhost:8080/"
        },
        "id": "9MDhw6f0lZS6",
        "outputId": "c642382d-10d7-4a0e-88fb-ea3b65770524"
      },
      "execution_count": null,
      "outputs": [
        {
          "output_type": "stream",
          "name": "stdout",
          "text": [
            "Введіть число:15\n",
            "Це число більше 10\n"
          ]
        }
      ]
    },
    {
      "cell_type": "code",
      "source": [
        "# Перевірити, чи є введене користувачем число більше за 10, і вивести відповідне повідомлення\n",
        "number = int(input(\"Введіть число: \"))\n",
        "\n",
        "print(\"Це число більше 10\" if number > 10 else \"Це число 10\" if number == 10 else \"Це число менше 10\")"
      ],
      "metadata": {
        "colab": {
          "base_uri": "https://localhost:8080/"
        },
        "id": "dVN8WrG6nSnq",
        "outputId": "36713989-8a58-41ba-af85-5e9d7ecf80e8"
      },
      "execution_count": null,
      "outputs": [
        {
          "output_type": "stream",
          "name": "stdout",
          "text": [
            "Введіть число: 8\n",
            "Це число менше 10\n"
          ]
        }
      ]
    },
    {
      "cell_type": "markdown",
      "source": [
        "# 6 Вивести таблицю множення для числа 3 (від 1 до 10)"
      ],
      "metadata": {
        "id": "iSFRBtXIhsco"
      }
    },
    {
      "cell_type": "code",
      "source": [
        "# Вивести таблицю множення для числа 3 (від 1 до 10)\n",
        "n =3                           # присвоїли змінній значення 3\n",
        "for i in range(1,11):          # вказали, що треба виконувати цикл від 1 до 10 (оскільки 11 не включається)\n",
        "  print(f\"3 *\", i, \"=\", 3*i)   # прописали , що треба вивести послідовне перемноження змінної 3 на кожне з чисел послідовності від 1 до 10"
      ],
      "metadata": {
        "colab": {
          "base_uri": "https://localhost:8080/"
        },
        "id": "PD0i3kUtknvU",
        "outputId": "866c3a00-65ad-470c-ed68-5dd986322c52"
      },
      "execution_count": null,
      "outputs": [
        {
          "output_type": "stream",
          "name": "stdout",
          "text": [
            "3 * 1 = 3\n",
            "3 * 2 = 6\n",
            "3 * 3 = 9\n",
            "3 * 4 = 12\n",
            "3 * 5 = 15\n",
            "3 * 6 = 18\n",
            "3 * 7 = 21\n",
            "3 * 8 = 24\n",
            "3 * 9 = 27\n",
            "3 * 10 = 30\n"
          ]
        }
      ]
    },
    {
      "cell_type": "code",
      "source": [
        "# Вивести таблицю множення для числа 3 (від 1 до 10)\n",
        "# прописали обчислення використовуючи F-string(F-strings (форматовані рядки)і не прописуючи на початку коду, що змінна має = 3\n",
        "for i in range(1,11):\n",
        "  print(f\"3 * {i} = {3 * i}\")"
      ],
      "metadata": {
        "colab": {
          "base_uri": "https://localhost:8080/"
        },
        "id": "SKnbVkg3nHRJ",
        "outputId": "c9f2415c-4d92-4179-e90d-e92602e74ef6"
      },
      "execution_count": null,
      "outputs": [
        {
          "output_type": "stream",
          "name": "stdout",
          "text": [
            "3 * 1 = 3\n",
            "3 * 2 = 6\n",
            "3 * 3 = 9\n",
            "3 * 4 = 12\n",
            "3 * 5 = 15\n",
            "3 * 6 = 18\n",
            "3 * 7 = 21\n",
            "3 * 8 = 24\n",
            "3 * 9 = 27\n",
            "3 * 10 = 30\n"
          ]
        }
      ]
    },
    {
      "cell_type": "markdown",
      "source": [
        "# 7 Запитати у користувача ім'я і вивести повідомлення: \"Привіт, [ім'я]!\""
      ],
      "metadata": {
        "id": "Kr_9iCR_n27G"
      }
    },
    {
      "cell_type": "code",
      "source": [
        "# Запитати у користувача ім'я і вивести повідомлення: \"Привіт, [ім'я]!\"\n",
        "name = input(\"Введіть ім'я:\")   # скористатись input\n",
        "name = name.capitalize()        # використаємо метод, що зробить першу літеру введеного імені великою\n",
        "print(f\"Привіт, {name}!\")       # вказати, що треба вивести за допомогою F-string"
      ],
      "metadata": {
        "colab": {
          "base_uri": "https://localhost:8080/"
        },
        "id": "F9SGkMHaoA0a",
        "outputId": "0dd15b2b-9e96-45b4-8c93-fd3bd9351298"
      },
      "execution_count": null,
      "outputs": [
        {
          "output_type": "stream",
          "name": "stdout",
          "text": [
            "Введіть ім'я:кіра\n",
            "Привіт, Кіра!\n"
          ]
        }
      ]
    },
    {
      "cell_type": "markdown",
      "source": [
        "# 8 Вивести всі числа від 1 до 100, які не діляться на 3 або 5"
      ],
      "metadata": {
        "id": "HVPvxxM_th7R"
      }
    },
    {
      "cell_type": "code",
      "source": [
        "# Вивести всі числа від 1 до 100, які не діляться на 3 або 5\n",
        "for number in range(1,101):                     # створити список чисел від 1 до 100\n",
        "    if number %3 !=0 and number %5 !=0:         # перевірити, чи число ділиться на 3 та /або на 5 - тобто остача ділення на 3 і на 5 не буде рівна 0\n",
        "      print(number)"
      ],
      "metadata": {
        "colab": {
          "base_uri": "https://localhost:8080/"
        },
        "id": "4Vr0cKJ85Bqx",
        "outputId": "ef176389-87c2-4e48-c595-7d24d9e672d1"
      },
      "execution_count": null,
      "outputs": [
        {
          "output_type": "stream",
          "name": "stdout",
          "text": [
            "1\n",
            "2\n",
            "4\n",
            "7\n",
            "8\n",
            "11\n",
            "13\n",
            "14\n",
            "16\n",
            "17\n",
            "19\n",
            "22\n",
            "23\n",
            "26\n",
            "28\n",
            "29\n",
            "31\n",
            "32\n",
            "34\n",
            "37\n",
            "38\n",
            "41\n",
            "43\n",
            "44\n",
            "46\n",
            "47\n",
            "49\n",
            "52\n",
            "53\n",
            "56\n",
            "58\n",
            "59\n",
            "61\n",
            "62\n",
            "64\n",
            "67\n",
            "68\n",
            "71\n",
            "73\n",
            "74\n",
            "76\n",
            "77\n",
            "79\n",
            "82\n",
            "83\n",
            "86\n",
            "88\n",
            "89\n",
            "91\n",
            "92\n",
            "94\n",
            "97\n",
            "98\n"
          ]
        }
      ]
    },
    {
      "cell_type": "markdown",
      "source": [
        "# 9 Перевірити, чи рядок містить тільки літери (без цифр і спеціальних символів)"
      ],
      "metadata": {
        "id": "H3B_ubn6eNKL"
      }
    },
    {
      "cell_type": "code",
      "source": [
        "# Перевірити, чи рядок містить тільки літери (без цифр і спеціальних символів)\n",
        "\n",
        "# letters - це букви англійського та українського алфавіту.\n",
        "# код працюватиме за принципом - перевір чи всі введені символи є в списку letters. І якщо чогось в списку немає - виведи помилку.\n",
        "# тобто код працює з обмеженнями - якщо абетка російська/німецька - то код не розпізнає їх як літеру\n",
        "\n",
        "letters = \"abcdefghijklmnopqrstuvwxyzABCDEFGHIJKLMNOPQRSTUVWXYZабвгґдеєжзийіклмнопрстуфхцчшщьюяАБВГҐДЕЄЖЗИЙІКЛМНОПРСТУФХЦЧШЩЬЮЯ\"\n",
        "text = input(\"Введіть текст: \")\n",
        "\n",
        "for char in text:                    # цикл для перевірки кожного символа\n",
        "    if char not in letters:\n",
        "        print(\"Рядок містить не тільки літери.\")\n",
        "        break                        # код перевіряє до першого значення \"не літера\" і переривається\n",
        "else:\n",
        "    print(\"Рядок містить тільки літери.\")"
      ],
      "metadata": {
        "colab": {
          "base_uri": "https://localhost:8080/"
        },
        "id": "YOdrA4Y7eREs",
        "outputId": "4fc41377-601b-4e86-c5a7-ed1c57722acd"
      },
      "execution_count": null,
      "outputs": [
        {
          "output_type": "stream",
          "name": "stdout",
          "text": [
            "Введіть текст: хелло\n",
            "Рядок містить тільки літери.\n"
          ]
        }
      ]
    },
    {
      "cell_type": "code",
      "source": [
        "# Перевірити, чи рядок містить тільки літери (без цифр і спеціальних символів)\n",
        "# простіше перевірити за методом isalpha() (схоже на isnumeric, який перевіряє, чи в рядку тільки числа)\n",
        "# цей метод перевіряє точніше - приклад \"хеллЫüÖ\" де є німецькі літери зі спецзнаками та російську Ы розпізнає як букви\n",
        "\n",
        "text = input(\"Введіть текст: \")\n",
        "if text.isalpha():\n",
        "    print(\"Рядок містить тільки літери.\")\n",
        "else:\n",
        "    print(\"Рядок містить не тільки літери.\")"
      ],
      "metadata": {
        "colab": {
          "base_uri": "https://localhost:8080/"
        },
        "id": "qOjqadeTyB7Q",
        "outputId": "3f675a59-43f7-45ea-f3f7-a4d0b7a5734d"
      },
      "execution_count": null,
      "outputs": [
        {
          "output_type": "stream",
          "name": "stdout",
          "text": [
            "Введіть текст: хеллЫüÖ\n",
            "Рядок містить тільки літери.\n"
          ]
        }
      ]
    },
    {
      "cell_type": "markdown",
      "source": [
        "# 10 Вивести всі числа від 1 до 50, які кратні 7"
      ],
      "metadata": {
        "id": "U6TO8LSN0An-"
      }
    },
    {
      "cell_type": "code",
      "source": [
        "# Вивести всі числа від 1 до 50, які кратні 7\n",
        "# for - коли знаємо кількість повторень\n",
        "for i in range(1,51):\n",
        "  if i%7 == 0:\n",
        "    print(i)"
      ],
      "metadata": {
        "colab": {
          "base_uri": "https://localhost:8080/"
        },
        "id": "KO8YuNYHp0H0",
        "outputId": "7b2d37af-1f47-4d1b-ba9b-fc6b0fbab887"
      },
      "execution_count": null,
      "outputs": [
        {
          "output_type": "stream",
          "name": "stdout",
          "text": [
            "7\n",
            "14\n",
            "21\n",
            "28\n",
            "35\n",
            "42\n",
            "49\n"
          ]
        }
      ]
    },
    {
      "cell_type": "code",
      "source": [
        "# Вивести всі числа від 1 до 50, які кратні 7\n",
        "# while - поки умова істинна ( Поки i менше 50, буде друкувати і збільшувати i.)\n",
        "\n",
        "i=1\n",
        "while i<=50:\n",
        "  if i%7==0:\n",
        "    print(i)\n",
        "  i+=1"
      ],
      "metadata": {
        "colab": {
          "base_uri": "https://localhost:8080/"
        },
        "id": "KQVeObdN1C4h",
        "outputId": "3053bac2-d16d-498d-ff67-d119c5ca251a"
      },
      "execution_count": null,
      "outputs": [
        {
          "output_type": "stream",
          "name": "stdout",
          "text": [
            "7\n",
            "14\n",
            "21\n",
            "28\n",
            "35\n",
            "42\n",
            "49\n"
          ]
        }
      ]
    },
    {
      "cell_type": "markdown",
      "source": [
        "# 11 Перевірити, чи введене число є від'ємним, додатним або нулем"
      ],
      "metadata": {
        "id": "LJRM93d11ZNc"
      }
    },
    {
      "cell_type": "code",
      "source": [
        "number = int(input(\"Введіть число: \"))\n",
        "\n",
        "if number > 0:\n",
        "    print(\"Число позитивне\")\n",
        "elif number < 0:\n",
        "    print(\"Число від'ємне\")\n",
        "else:\n",
        "    print(\"Число нульове\")"
      ],
      "metadata": {
        "colab": {
          "base_uri": "https://localhost:8080/"
        },
        "id": "E9gJCC9H2fTL",
        "outputId": "960a47f0-03d1-4425-e474-a5d0154a6fd3"
      },
      "execution_count": null,
      "outputs": [
        {
          "output_type": "stream",
          "name": "stdout",
          "text": [
            "Введіть число: 15\n",
            "Число позитивне\n"
          ]
        }
      ]
    },
    {
      "cell_type": "markdown",
      "source": [
        "# 12 Запитати у користувача число і вивести таблицю множення для цього числа (від 1 до 10)"
      ],
      "metadata": {
        "id": "e5o3UDvA2jsV"
      }
    },
    {
      "cell_type": "code",
      "source": [
        "# Запитати у користувача число і вивести таблицю множення для цього числа (від 1 до 10)\n",
        "number = int(input(\"Введіть число: \"))\n",
        "\n",
        "for i in range(1, 11):\n",
        "    print(f\"{number} * {i} = {number * i}\")    #робимо подібно до завдання 6 - але тут число, для якого треба вивести табличку множення не є сталим і вводиться користувачем"
      ],
      "metadata": {
        "colab": {
          "base_uri": "https://localhost:8080/"
        },
        "id": "Xz2LE03c2xgC",
        "outputId": "f4d53238-bc60-4709-efb3-28cb76c9380f"
      },
      "execution_count": null,
      "outputs": [
        {
          "output_type": "stream",
          "name": "stdout",
          "text": [
            "Введіть число: 15\n",
            "15 * 1 = 15\n",
            "15 * 2 = 30\n",
            "15 * 3 = 45\n",
            "15 * 4 = 60\n",
            "15 * 5 = 75\n",
            "15 * 6 = 90\n",
            "15 * 7 = 105\n",
            "15 * 8 = 120\n",
            "15 * 9 = 135\n",
            "15 * 10 = 150\n"
          ]
        }
      ]
    },
    {
      "cell_type": "markdown",
      "source": [
        "# 13 Запитати у користувача кілька чисел і вивести їх суму (цикл while)"
      ],
      "metadata": {
        "id": "wm2kfBQy3557"
      }
    },
    {
      "cell_type": "code",
      "source": [
        "# Запитати у користувача кілька чисел і вивести їх суму (цикл while)\n",
        "# while - поки умова істинна ( поки треба вводити числа і додавати, аж поки не зупиниться цикл - по стоп-слову)\n",
        "\n",
        "sum_result = 0                               # на початку циклу сума доданків - \"0\"\n",
        "\n",
        "while True:                                  # while True - це безкінечний цикл, аж до слова stop\n",
        "  user_input = input(\"Введіть число або 'stop' для завершення:\")\n",
        "  if user_input == \"stop\":\n",
        "    break                                    # перервати цикл\n",
        "  number = int(user_input)                   # ввести нове число\n",
        "  sum_result+=number                         # число додається до попереднього sum_result\n",
        "\n",
        "print(\"Сума чисел:\",sum_result)\n",
        "\n"
      ],
      "metadata": {
        "colab": {
          "base_uri": "https://localhost:8080/"
        },
        "id": "21GwUu7g4Gs6",
        "outputId": "b4763f14-fd8a-416f-9caf-06ebe684cb50"
      },
      "execution_count": null,
      "outputs": [
        {
          "output_type": "stream",
          "name": "stdout",
          "text": [
            "Введіть число або 'stop' для завершення:1\n",
            "Введіть число або 'stop' для завершення:2\n",
            "Введіть число або 'stop' для завершення:3\n",
            "Введіть число або 'stop' для завершення:4\n",
            "Введіть число або 'stop' для завершення:5\n",
            "Введіть число або 'stop' для завершення:stop\n",
            "Сума чисел: 15\n"
          ]
        }
      ]
    },
    {
      "cell_type": "markdown",
      "source": [
        "# 14 Перевірити, чи введене число є простим"
      ],
      "metadata": {
        "id": "bn6Hdu5u4CnD"
      }
    },
    {
      "cell_type": "code",
      "source": [
        "# Перевірити, чи введене число є простим\n",
        "'''Просте число — це натуральне число більше за 1, яке має лише два дільники: 1 і саме себе.\n",
        "   Це означає, що просте число не можна поділити на жодне інше натуральне число без залишку, окрім 1 та самого числа.\n",
        "   Приклади простих чисел:\n",
        "  2 (дільники: 1, 2)\n",
        "  3 (дільники: 1, 3)\n",
        "  Числа, які не є простими:\n",
        "  1 не вважається простим числом, оскільки має тільки один дільник (саме себе).\n",
        "  4 (дільники: 1, 2, 4) не є простим, оскільки має більше двох дільників.\n",
        "\n",
        "  Алгоритм перевірки простого числа:\n",
        "Введи число.\n",
        "\n",
        "Якщо число ≤ 1:\n",
        "➔ воно не просте (зупиняємось).\n",
        "\n",
        "Починай перевірку від 2 до числа - 1:\n",
        "\n",
        "Для кожного числа в цьому проміжку:\n",
        "➔ Якщо наше число ділиться без остачі (тобто n % i == 0),\n",
        "➔ тоді це не просте число (зупиняємось).\n",
        "\n",
        "Якщо не знайшли жодного дільника ➔ число просте!\n",
        "Схема перевірки:\n",
        "Число <= 1? → Не просте\n",
        "Інакше:\n",
        "  Є дільник між 2 і n-1? → Не просте\n",
        "  Інакше → Просте\n",
        "\n",
        "  приклад кроків для числа 7:\n",
        "7 > 1 → OK\n",
        "\n",
        "Чи 7 ділиться на 2? Ні\n",
        "\n",
        "Чи 7 ділиться на 3? Ні\n",
        "\n",
        "Чи 7 ділиться на 4? Ні\n",
        "\n",
        "Чи 7 ділиться на 5? Ні\n",
        "\n",
        "Чи 7 ділиться на 6? Ні\n",
        "\n",
        "(Доходимо до 6, далі перевіряти не треба, бо 6 < 7)\n",
        "\n",
        "➔ 7 просте число!'''"
      ],
      "metadata": {
        "id": "8uSCx_V8iJs3"
      },
      "execution_count": null,
      "outputs": []
    },
    {
      "cell_type": "code",
      "source": [
        "num = int(input(\"Введіть число: \"))\n",
        "\n",
        "if num <= 1:\n",
        "    print(\"Число не є простим.\")\n",
        "else:\n",
        "    is_prime = True  # Припустимо, що число просте\n",
        "    for i in range(2, num):\n",
        "        if num % i == 0:\n",
        "            is_prime = False\n",
        "            break  # Якщо знайшли дільник, зупиняємо цикл\n",
        "    if is_prime:\n",
        "        print(\"Число є простим.\")\n",
        "    else:\n",
        "        print(\"Число не є простим.\")"
      ],
      "metadata": {
        "colab": {
          "base_uri": "https://localhost:8080/"
        },
        "id": "PqxKRDI8lQEq",
        "outputId": "58bec9a5-f7f2-48e6-c989-42f523e18424"
      },
      "execution_count": null,
      "outputs": [
        {
          "output_type": "stream",
          "name": "stdout",
          "text": [
            "Введіть число: 7\n",
            "Число є простим.\n"
          ]
        }
      ]
    }
  ]
}