{
  "nbformat": 4,
  "nbformat_minor": 0,
  "metadata": {
    "colab": {
      "provenance": [],
      "toc_visible": true
    },
    "kernelspec": {
      "name": "python3",
      "display_name": "Python 3"
    },
    "language_info": {
      "name": "python"
    }
  },
  "cells": [
    {
      "cell_type": "markdown",
      "source": [
        "# Завдання 1 - Є список товарів. Відсортуйте їх за кількістю літер у назві\n"
      ],
      "metadata": {
        "id": "pmKVy3iSEcqn"
      }
    },
    {
      "cell_type": "code",
      "source": [
        "# Використати вбудовану функцію sorted(), вказати, що сортувати треба по довжині назвт (використати параметр key=len, щоб сортувати за довжиною назви.)\n",
        "def sort_by_name_length(products):\n",
        "    return sorted(products, key= len)                                # Відсортуємо список товарів за кількістю літер у назві\n",
        "\n",
        "products = [\"apple\", \"banana\", \"kiwi\", \"grapefruit\", \"fig\", \"pear\"] # Список товарів\n",
        "\n",
        "sorted_products = sort_by_name_length(products)                     # Викликаємо функцію для сортування\n",
        "\n",
        "\n",
        "print(\"Відсортований список товарів за кількістю літер у назві:\")   # Виведення відсортованого списку\n",
        "print(sorted_products)\n"
      ],
      "metadata": {
        "colab": {
          "base_uri": "https://localhost:8080/"
        },
        "id": "QZZaMJFyEfs4",
        "outputId": "a712fd96-138e-4c4a-bda2-a797ab7b490c"
      },
      "execution_count": null,
      "outputs": [
        {
          "output_type": "stream",
          "name": "stdout",
          "text": [
            "Відсортований список товарів за кількістю літер у назві:\n",
            "['fig', 'kiwi', 'pear', 'apple', 'banana', 'grapefruit']\n"
          ]
        }
      ]
    },
    {
      "cell_type": "code",
      "source": [
        "# лямбда-функція\n",
        "\n",
        "def sort_by_name_length(products):\n",
        "    return sorted(products, key=lambda name: len(name))             # lambda name: len(name) — це коротка функція без назви, яка приймає змінну name і повертає її довжину.\n",
        "\n",
        "products = [\"apple\", \"banana\", \"kiwi\", \"grapefruit\", \"fig\", \"pear\"] # Список товарів\n",
        "\n",
        "sorted_products = sort_by_name_length(products)                     # Викликаємо функцію для сортування\n",
        "\n",
        "print(\"Відсортований список товарів за кількістю літер у назві:\")   # Виведення відсортованого списку\n",
        "print(sorted_products)\n"
      ],
      "metadata": {
        "colab": {
          "base_uri": "https://localhost:8080/"
        },
        "id": "Zj8_c-NVEtYa",
        "outputId": "46f5cd11-6529-46bb-bc8b-5611a10e22f5"
      },
      "execution_count": null,
      "outputs": [
        {
          "output_type": "stream",
          "name": "stdout",
          "text": [
            "Відсортований список товарів за кількістю літер у назві:\n",
            "['fig', 'kiwi', 'pear', 'apple', 'banana', 'grapefruit']\n"
          ]
        }
      ]
    },
    {
      "cell_type": "markdown",
      "source": [
        "# Завдання 2 - Вибір лише позитивних чисел зі списку"
      ],
      "metadata": {
        "id": "KV5O9JvIIEf-"
      }
    },
    {
      "cell_type": "code",
      "source": [
        "# filter() з lambda\n",
        "numbers = [-2, 5, 0, -1, 3]\n",
        "positives = list(filter(lambda x: x > 0, numbers)) - # filter(функція, список) — повертає тільки ті елементи, для яких функція дає True\n",
        "                                                     # lambda num: num > 0 — це анонімна функція, яка перевіряє, чи число позитивне.\n",
        "                                                     # list(...) — перетворює результат у звичайний список.\n",
        "print(\"Лише позитивні числа зі списку:\")\n",
        "print(positives)  # [5, 3]\n"
      ],
      "metadata": {
        "colab": {
          "base_uri": "https://localhost:8080/"
        },
        "id": "nY-vOKdrJGXv",
        "outputId": "cf8feee9-5b2d-4133-9a3c-a0b389612cd6"
      },
      "execution_count": null,
      "outputs": [
        {
          "output_type": "stream",
          "name": "stdout",
          "text": [
            "Лише позитивні числа зі списку:\n",
            "[5, 3]\n"
          ]
        }
      ]
    },
    {
      "cell_type": "code",
      "source": [
        "# list comprehension - короткий запис для створення нового списку на основі наявного, з можливістю фільтрації і перетворення елементів.\n",
        "# [вираз for елемент in послідовність if умова]\n",
        "'''\n",
        "вираз\tщо робити з елементом (наприклад, залишити як є, помножити і т.д.)\n",
        "for\tцикл, що перебирає кожен елемент\n",
        "if\t(необов'язково) — умова, щоб відфільтрувати елементи'''\n",
        "\n",
        "def get_positive_numbers(numbers):              #  функція get_positive_numbers, яка приймає список numbers\n",
        "    return [num for num in numbers if num > 0]  # list comprehension, що фільтрує числа (num > 0)\n",
        "\n",
        "\n",
        "numbers = [3, -1, 0, 7, -5, 8, -2]              # Список чисел\n",
        "\n",
        "\n",
        "positive_numbers = get_positive_numbers(numbers) # Викликаємо функцію(лише з позитивними числами)\n",
        "\n",
        "# Виводимо результат\n",
        "print(\"Лише позитивні числа зі списку:\")\n",
        "print(positive_numbers)\n"
      ],
      "metadata": {
        "colab": {
          "base_uri": "https://localhost:8080/"
        },
        "id": "qO7Mg6FPJRvb",
        "outputId": "0b18cbad-fc31-44b1-b209-f3355f06924a"
      },
      "execution_count": null,
      "outputs": [
        {
          "output_type": "stream",
          "name": "stdout",
          "text": [
            "Лише позитивні числа зі списку:\n",
            "[3, 7, 8]\n"
          ]
        }
      ]
    },
    {
      "cell_type": "markdown",
      "source": [
        "# Завдання 3 - Є список імен. Переведіть їх у верхній регістр\n",
        "\n",
        "Приклад: \"марія\" = \"МАРІЯ\""
      ],
      "metadata": {
        "id": "NdJft2NNLUzO"
      }
    },
    {
      "cell_type": "code",
      "source": [
        "#рішення з функцією та list comprehension:\n",
        "def to_uppercase(names):                         # перетворює кожне ім’я у верхній регістр.\n",
        "    return [name.upper() for name in names]      # list comprehension, який проходиться по кожному імені та змінює його.\n",
        "\n",
        "names = [\"марія\", \"іван\", \"оксана\", \"петро\"]     # Список імен\n",
        "\n",
        "upper_names = to_uppercase(names)                # Виклик функції\n",
        "\n",
        "print(f\"Перетворити ім’я у верхній регістр: {upper_names}\")    # Вивід результату\n"
      ],
      "metadata": {
        "colab": {
          "base_uri": "https://localhost:8080/"
        },
        "id": "b8Feiuu-aaGT",
        "outputId": "4c957ac5-2343-4d3e-c9c1-83141627df19"
      },
      "execution_count": null,
      "outputs": [
        {
          "output_type": "stream",
          "name": "stdout",
          "text": [
            "Перетворити ім’я у верхній регістр: ['МАРІЯ', 'ІВАН', 'ОКСАНА', 'ПЕТРО']\n"
          ]
        }
      ]
    },
    {
      "cell_type": "code",
      "source": [
        "# Рішення з map() і lambda:\n",
        "# map() — це функція вбудована в Python, яка застосовує функцію до кожного елемента з послідовності (списку, кортежу тощо).\n",
        "''' Коли ми використовуємо map(...) у Python, він не повертає одразу список, а повертає спеціальний \"map-об’єкт\" — це ітерований об'єкт (iterator), який економить пам’ять.\n",
        "Цей об'єкт можна перебирати в циклі, але не побачиш у ньому елементи, поки явно не перетвориш на список або інший контейнер.'''\n",
        "def to_uppercase(names):\n",
        "    return list(map(lambda name: name.upper(), names)) # lambda name: name.upper() — анонімна функція, яка перетворює ім’я у верхній регістр\n",
        "                                                       # map(function, iterable) — застосовує цю функцію до кожного елемента списку\n",
        "                                                       # list(...) — перетворює результат map на звичайний список\n",
        "\n",
        "names = [\"марія\", \"іван\", \"оксана\", \"петро\"]     # Список імен\n",
        "\n",
        "upper_names = to_uppercase(names)                # Виклик функції\n",
        "\n",
        "print(f\"Перетворити ім’я у верхній регістр: {upper_names}\")    # Вивід результату\n"
      ],
      "metadata": {
        "colab": {
          "base_uri": "https://localhost:8080/"
        },
        "id": "5I4q4FQUbQAw",
        "outputId": "5db0ac79-8ca5-4631-94a6-b08c032ab925"
      },
      "execution_count": null,
      "outputs": [
        {
          "output_type": "stream",
          "name": "stdout",
          "text": [
            "Перетворити ім’я у верхній регістр: ['МАРІЯ', 'ІВАН', 'ОКСАНА', 'ПЕТРО']\n"
          ]
        }
      ]
    },
    {
      "cell_type": "markdown",
      "source": [
        "# Завдання 4 - Перевірте, чи містять слова зі списку літеру \"а\""
      ],
      "metadata": {
        "id": "NAjdExUpb_6_"
      }
    },
    {
      "cell_type": "code",
      "source": [
        "# Рішення з list comprehension та in\n",
        "\n",
        "def words_with_a(words):\n",
        "    return [word for word in words if \"а\" in word]   # \"а\" in word — перевіряє, чи є літера 'а' у слові.\n",
        "                                                     # [... for word in words if ...] — фільтрує ті слова, де це правда.\n",
        "\n",
        "words = [\"мама\", \"світло\", \"літо\", \"гра\", \"кіт\"]     # Список слів\n",
        "\n",
        "result = words_with_a(words)                         # Результат\n",
        "print(f\"Слова, що містять літеру 'а': {result}\")\n"
      ],
      "metadata": {
        "colab": {
          "base_uri": "https://localhost:8080/"
        },
        "id": "mglgv360dHL4",
        "outputId": "508f237a-df3b-42d0-f7f4-07c236ac819a"
      },
      "execution_count": null,
      "outputs": [
        {
          "output_type": "stream",
          "name": "stdout",
          "text": [
            "Чи є в слові літера 'а': ['мама', 'гра']\n"
          ]
        }
      ]
    },
    {
      "cell_type": "code",
      "source": [
        "# Рішення з  filter() і lambda\n",
        "def words_with_a(words):\n",
        "    return list(filter(lambda word: \"а\" in word, words))   # filter(...) — фільтрує список слів.\n",
        "                                                           # lambda word: \"а\" in word — повертає True, якщо у слові є літера \"а\".\n",
        "                                                           # list(...) — перетворює результат filter на звичайний список.\n",
        "\n",
        "words = [\"мама\", \"світло\", \"літо\", \"гра\", \"кіт\"]           # Список слів\n",
        "\n",
        "result = words_with_a(words)                               # Результат виконання функції\n",
        "print(f\"Слова, що містять літеру 'а': {result}\")           # Виведення результату\n"
      ],
      "metadata": {
        "colab": {
          "base_uri": "https://localhost:8080/"
        },
        "id": "9tVbwxGeddx1",
        "outputId": "88b9df39-a67b-4406-e229-32eed68103a2"
      },
      "execution_count": null,
      "outputs": [
        {
          "output_type": "stream",
          "name": "stdout",
          "text": [
            "Слова, що містять літеру 'а': ['мама', 'гра']\n"
          ]
        }
      ]
    },
    {
      "cell_type": "markdown",
      "source": [
        "# Завдання 5 - Є список покупок з цінами та кількістю. Обчисліть загальну суму витрат"
      ],
      "metadata": {
        "id": "7L_liRrLfkGk"
      }
    },
    {
      "cell_type": "code",
      "source": [
        "# Рішення з функцією та циклом for\n",
        "\n",
        "def total_cost(shopping_list):\n",
        "    total = 0                                                # Початкове значення суми\n",
        "    for item in shopping_list:                               # Перебір кожного товару зі списку\n",
        "        price, quantity = item                               # Розпаковуємо кортеж: ціна і кількість\n",
        "        total += price * quantity                            # Додаємо до суми результат множення ціни на кількість\n",
        "    return total                                             # Повертаємо загальну суму\n",
        "\n",
        "shopping_list = [(10, 2), (5.5, 4), (3.2, 1)]                 # Кожен товар — це (ціна, кількість)\n",
        "result = total_cost(shopping_list)                           # Виклик функції\n",
        "print(f\"Загальна сума витрат: {result}\")                     # Вивід результату"
      ],
      "metadata": {
        "colab": {
          "base_uri": "https://localhost:8080/"
        },
        "id": "tK4ltOX4fkqc",
        "outputId": "2378aa9e-d712-47f4-8210-68fc8042502f"
      },
      "execution_count": null,
      "outputs": [
        {
          "output_type": "stream",
          "name": "stdout",
          "text": [
            "Загальна сума витрат: 45.2\n"
          ]
        }
      ]
    },
    {
      "cell_type": "code",
      "source": [
        "# Рішення з map() та lambda\n",
        "shopping_list = [(10, 2), (5.5, 4), (3.2, 1)]                 # Список покупок (ціна, кількість)\n",
        "\n",
        "# Використання map() і lambda для обчислення кожної суми (ціна * кількість)\n",
        "costs = map(lambda item: item[0] * item[1], shopping_list)   # lambda item: item[0] * item[1] — обчислює витрати на товар\n",
        "                                                             # map(...) — застосовує цю функцію до кожного елемента списку\n",
        "\n",
        "total = sum(costs)                                           # sum(...) — підсумовує всі витрати\n",
        "print(f\"Загальна сума витрат: {total}\")                      # Вивід результату\n"
      ],
      "metadata": {
        "colab": {
          "base_uri": "https://localhost:8080/"
        },
        "id": "ziHiBbKIf8_x",
        "outputId": "11076500-0a90-4124-ca2e-71f52b37afe3"
      },
      "execution_count": null,
      "outputs": [
        {
          "output_type": "stream",
          "name": "stdout",
          "text": [
            "Загальна сума витрат: 45.2\n"
          ]
        }
      ]
    },
    {
      "cell_type": "markdown",
      "source": [
        "# Завдання 6 - Напишіть функцію, яка приймає рядок тексту й повертає кількість слів у ньому"
      ],
      "metadata": {
        "id": "f-Pe0oyRgVuv"
      }
    },
    {
      "cell_type": "code",
      "source": [
        "# Рішення з функцією count_words()\n",
        "def count_words(text):\n",
        "    words = text.split()                      # .split() розбиває рядок на список слів за пробілами\n",
        "    return len(words)                         # len(...) рахує кількість елементів у списку (тобто слів)\n",
        "\n",
        "text = \"Сьогодні гарна погода і ми йдемо на прогулянку.\"     # Рядок тексту\n",
        "result = count_words(text)                    # Виклик функції\n",
        "print(f\"Кількість слів: {result}\")            # Вивід результату\n"
      ],
      "metadata": {
        "colab": {
          "base_uri": "https://localhost:8080/"
        },
        "id": "rbtYjY0Sg1yS",
        "outputId": "2e670df2-0a6f-4125-d93c-aa1d7b83eaf6"
      },
      "execution_count": null,
      "outputs": [
        {
          "output_type": "stream",
          "name": "stdout",
          "text": [
            "Кількість слів: 8\n"
          ]
        }
      ]
    },
    {
      "cell_type": "code",
      "source": [
        "# Без функції\n",
        "text = \"Сьогодні гарна погода і ми йдемо на прогулянку.\"     # Рядок тексту\n",
        "\n",
        "word_count = len(text.split())         # .split() розбиває текст на слова, len(...) рахує їх кількість\n",
        "print(f\"Кількість слів: {word_count}\") # Вивід результату\n"
      ],
      "metadata": {
        "colab": {
          "base_uri": "https://localhost:8080/"
        },
        "id": "449wiZIQhBRJ",
        "outputId": "c1eaa3f3-a6ef-41a3-d749-a05c326a2636"
      },
      "execution_count": null,
      "outputs": [
        {
          "output_type": "stream",
          "name": "stdout",
          "text": [
            "Кількість слів: 8\n"
          ]
        }
      ]
    },
    {
      "cell_type": "markdown",
      "source": [
        "# Завдання 7 - Створіть функцію для перевірки пароля. Пароль має бути довшим за 8 символів\n",
        "\n",
        "(підказка: робота з помилками)"
      ],
      "metadata": {
        "id": "Ngfl3lwYh6cy"
      }
    },
    {
      "cell_type": "markdown",
      "source": [
        "Exceptions (Runtime Errors - Помилки виконання):\n",
        "Виникають під час виконання програми.\n",
        "\n",
        "Поширені типи винятків:\n",
        "\n",
        "```\n",
        "NameError: Коли змінна не визначена.\n",
        "TypeError: Коли операція застосована до неправильного типу.\n",
        "ValueError: Коли функція отримує правильний тип, але невідповідне значення.\n",
        "IndexError: Під час спроби отримати доступ до індексу поза діапазоном списку або рядка.\n",
        "KeyError: При спробі отримати доступ до неіснуючого ключа в словнику.\n",
        "ZeroDivisionError: При спробі поділити на нуль\n",
        "```\n",
        "\n"
      ],
      "metadata": {
        "id": "YKVDPB7jh70M"
      }
    },
    {
      "cell_type": "code",
      "source": [
        "def check_password(password):\n",
        "    try:\n",
        "        if len(password) <= 8:               # Перевірка, чи довжина пароля менша або рівна 8\n",
        "            raise ValueError(\"Пароль повинен бути довшим за 8 символів.\")  # Викликаємо помилку, якщо пароль короткий\n",
        "        print(\"Пароль прийнятий.\")              # Якщо перевірка пройшла успішно\n",
        "    except ValueError as e:                    # Ловимо помилку ValueError\n",
        "        print(f\"Помилка: {e}\")                 # Виводимо повідомлення про помилку\n",
        "\n",
        "password = input(\"Введіть ваш пароль: \")  # Запитуємо у користувача ввести пароль\n",
        "check_password(password)                       # Виклик функції\n"
      ],
      "metadata": {
        "colab": {
          "base_uri": "https://localhost:8080/"
        },
        "id": "XwbS0zLiieKq",
        "outputId": "6e8cf3f6-acbb-4397-df28-7ebc32a81c47"
      },
      "execution_count": null,
      "outputs": [
        {
          "output_type": "stream",
          "name": "stdout",
          "text": [
            "Введіть ваш пароль: 12345\n",
            "Помилка: Пароль повинен бути довшим за 8 символів.\n"
          ]
        }
      ]
    },
    {
      "cell_type": "markdown",
      "source": [
        "# Завдання 8 - Найдіть середнє значення чисел у списку"
      ],
      "metadata": {
        "id": "ygBcJ3cyjN6v"
      }
    },
    {
      "cell_type": "code",
      "source": [
        "# Використання функції\n",
        "def calculate_average(numbers):\n",
        "    total = sum(numbers)                     # sum(...) підраховує суму всіх чисел у списку\n",
        "    count = len(numbers)                     # len(...) рахує кількість елементів у списку\n",
        "    return total / count if count > 0 else 0  # Обчислює середнє значення; повертає 0 для порожнього списку\n",
        "\n",
        "# Список чисел\n",
        "numbers_list = [10, 20, 30, 40, 50]          # Список, для якого потрібно обчислити середнє значення\n",
        "average = calculate_average(numbers_list)     # Виклик функції для обчислення середнього значення\n",
        "print(f\"Середнє значення: {average}\")        # Вивід результату"
      ],
      "metadata": {
        "colab": {
          "base_uri": "https://localhost:8080/"
        },
        "id": "mEbjWIE1kKV8",
        "outputId": "054bdbc9-94bb-430a-ed80-3dfd88ad2860"
      },
      "execution_count": null,
      "outputs": [
        {
          "output_type": "stream",
          "name": "stdout",
          "text": [
            "Середнє значення: 30.0\n"
          ]
        }
      ]
    },
    {
      "cell_type": "code",
      "source": [
        "# Альтернативний спосіб без функції\n",
        "numbers_list = [10, 20, 30, 40, 50]           # Список чисел\n",
        "total = sum(numbers_list)                      # sum(...) підраховує суму всіх чисел у списку\n",
        "count = len(numbers_list)                      # len(...) рахує кількість елементів у списку\n",
        "average = total / count if count > 0 else 0    # Обчислює середнє значення; повертає 0 для порожнього списку\n",
        "\n",
        "print(f\"Середнє значення: {average}\")         # Вивід результату"
      ],
      "metadata": {
        "colab": {
          "base_uri": "https://localhost:8080/"
        },
        "id": "8fTgOs14kabT",
        "outputId": "0ee253b9-0559-4862-ea76-e6be11b6b38a"
      },
      "execution_count": null,
      "outputs": [
        {
          "output_type": "stream",
          "name": "stdout",
          "text": [
            "Середнє значення: 30.0\n"
          ]
        }
      ]
    }
  ]
}