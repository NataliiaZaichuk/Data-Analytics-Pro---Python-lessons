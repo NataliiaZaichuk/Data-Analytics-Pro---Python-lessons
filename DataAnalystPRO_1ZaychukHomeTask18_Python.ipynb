{
  "nbformat": 4,
  "nbformat_minor": 0,
  "metadata": {
    "colab": {
      "provenance": [],
      "toc_visible": true
    },
    "kernelspec": {
      "name": "python3",
      "display_name": "Python 3"
    },
    "language_info": {
      "name": "python"
    }
  },
  "cells": [
    {
      "cell_type": "markdown",
      "source": [
        "# Завдання 1: Створення DataFrame та базові операції\n",
        "Імпортуй бібліотеку pandas з псевдонімом pd.\n",
        "\n",
        "Створи DataFrame зі словника:\n",
        "\n",
        "\n",
        "\n",
        "```\n",
        "'Product': ['Laptop', 'Phone', 'Tablet', 'Monitor', 'Keyboard'],\n",
        "    'Price': [1200, 800, 300, 400, 100],\n",
        "    'Sales': [35, 78, 25, 40, 90]}\n",
        "\n",
        "```\n",
        "Виведи:\n",
        "\n",
        "перші 3 рядки (head)\n",
        "\n",
        "статистику по числовим колонкам (describe)\n",
        "\n",
        "типи даних у таблиці (dtypes)\n"
      ],
      "metadata": {
        "id": "MS48l3vzkv0e"
      }
    },
    {
      "cell_type": "markdown",
      "source": [
        "**Що таке DataFrame?**\n",
        "DataFrame — це двовимірна таблиця (схожа на Excel або SQL-таблицю), яку використовує бібліотека pandas для зберігання і обробки даних.\n",
        "\n",
        "Складається з рядків (index) і стовпців (columns).\n",
        "\n",
        "Кожен стовпець може мати різний тип даних (наприклад, текст, числа, дати тощо).\n",
        "\n",
        "Зручно для аналізу, фільтрації, сортування, побудови графіків."
      ],
      "metadata": {
        "id": "3ALX5cZNlDs5"
      }
    },
    {
      "cell_type": "code",
      "source": [
        "# 1. Імпортуємо бібліотеку pandas з псевдонімом pd\n",
        "import pandas as pd\n",
        "\n",
        "# 2. Створюємо DataFrame зі словника\n",
        "data = {\n",
        "    'Product': ['Laptop', 'Phone', 'Tablet', 'Monitor', 'Keyboard'],\n",
        "    'Price': [1200, 800, 300, 400, 100],\n",
        "    'Sales': [35, 78, 25, 40, 90]\n",
        "}\n",
        "\n",
        "df = pd.DataFrame(data)  # створюємо DataFrame з даних\n"
      ],
      "metadata": {
        "id": "hvQm-i24k9QK"
      },
      "execution_count": null,
      "outputs": []
    },
    {
      "cell_type": "code",
      "source": [
        "# Виводимо перші 3 рядки таблиці\n",
        "\n",
        "print(\"=== Перші 3 рядки таблиці ===\")\n",
        "print(df.head(3))  # head(3) — показати перші 3 записи\n"
      ],
      "metadata": {
        "colab": {
          "base_uri": "https://localhost:8080/"
        },
        "id": "9Bk-Cwm6lf4q",
        "outputId": "c04ed814-fb94-4355-c6f0-0381b5266ebf"
      },
      "execution_count": null,
      "outputs": [
        {
          "output_type": "stream",
          "name": "stdout",
          "text": [
            "=== Перші 3 рядки таблиці ===\n",
            "  Product  Price  Sales\n",
            "0  Laptop   1200     35\n",
            "1   Phone    800     78\n",
            "2  Tablet    300     25\n"
          ]
        }
      ]
    },
    {
      "cell_type": "code",
      "source": [
        "# Статистика по числовим колонкам\n",
        "print(\"\\n=== Статистика по числових колонках ===\")\n",
        "print(df.describe())  # описова статистика: count, mean, std, min, max\n"
      ],
      "metadata": {
        "colab": {
          "base_uri": "https://localhost:8080/"
        },
        "id": "matuG5hQlpjl",
        "outputId": "1de9f0a1-e52c-4271-869e-bcec0d7af5a2"
      },
      "execution_count": null,
      "outputs": [
        {
          "output_type": "stream",
          "name": "stdout",
          "text": [
            "\n",
            "=== Статистика по числових колонках ===\n",
            "             Price      Sales\n",
            "count     5.000000   5.000000\n",
            "mean    560.000000  53.600000\n",
            "std     439.317653  28.588459\n",
            "min     100.000000  25.000000\n",
            "25%     300.000000  35.000000\n",
            "50%     400.000000  40.000000\n",
            "75%     800.000000  78.000000\n",
            "max    1200.000000  90.000000\n"
          ]
        }
      ]
    },
    {
      "cell_type": "code",
      "source": [
        "# Типи даних у стовпцях\n",
        "print(\"\\n=== Типи даних у колонках ===\")\n",
        "print(df.dtypes)  # показує тип даних кожної колонки\n"
      ],
      "metadata": {
        "colab": {
          "base_uri": "https://localhost:8080/"
        },
        "id": "7Gz5ravcmFW-",
        "outputId": "ad45583d-5ce1-40ee-d575-167ca9f993c2"
      },
      "execution_count": null,
      "outputs": [
        {
          "output_type": "stream",
          "name": "stdout",
          "text": [
            "\n",
            "=== Типи даних у колонках ===\n",
            "Product    object\n",
            "Price       int64\n",
            "Sales       int64\n",
            "dtype: object\n"
          ]
        }
      ]
    },
    {
      "cell_type": "markdown",
      "source": [
        "# Завдання 2: Фільтрація та обчислення\n",
        "Виведи продукти, в яких кількість продажів (Sales) більше 40.\n",
        "\n",
        "Додай нову колонку Total_Revenue, яка дорівнює Price * Sales.\n",
        "\n",
        "Знайди продукт з найбільшим прибутком (Total_Revenue) - виведи його назву та прибуток.\n",
        "\n",
        "\n",
        "\n",
        "```\n",
        "'Product': ['Laptop', 'Phone', 'Tablet', 'Monitor', 'Keyboard'],\n",
        "    'Price': [1200, 800, 300, 400, 100],\n",
        "    'Sales': [35, 78, 25, 40, 90]}\n",
        "\n",
        "```\n",
        "\n"
      ],
      "metadata": {
        "id": "nTjY3jBKmSD5"
      }
    },
    {
      "cell_type": "code",
      "source": [
        "# Фільтрація: продукти, де Sales > 40\n",
        "\n",
        "# Фільтруємо продукти з продажами понад 40\n",
        "filtered_df = df[df['Sales'] > 40]\n",
        "print(\"=== Продукти з продажами більше 40 ===\")\n",
        "print(filtered_df)\n",
        "print(\"-\" * 50)\n"
      ],
      "metadata": {
        "colab": {
          "base_uri": "https://localhost:8080/"
        },
        "id": "3mUb-MDBmwZn",
        "outputId": "25fb830d-5732-445a-cb8a-28a8767f44a2"
      },
      "execution_count": null,
      "outputs": [
        {
          "output_type": "stream",
          "name": "stdout",
          "text": [
            "=== Продукти з продажами більше 40 ===\n",
            "    Product  Price  Sales\n",
            "1     Phone    800     78\n",
            "4  Keyboard    100     90\n",
            "--------------------------------------------------\n"
          ]
        }
      ]
    },
    {
      "cell_type": "code",
      "source": [
        "# Додаємо колонку Total_Revenue = Price * Sales\n",
        "\n",
        "# Додаємо нову колонку з прибутком\n",
        "df['Total_Revenue'] = df['Price'] * df['Sales']\n",
        "print(\"=== Таблиця з новою колонкою Total_Revenue ===\")\n",
        "print(df)\n",
        "print(\"-\" * 50)\n"
      ],
      "metadata": {
        "colab": {
          "base_uri": "https://localhost:8080/"
        },
        "id": "Ojgd-5NPm5cK",
        "outputId": "13a84703-b1ec-47ae-b3d1-8f55f43a6868"
      },
      "execution_count": null,
      "outputs": [
        {
          "output_type": "stream",
          "name": "stdout",
          "text": [
            "=== Таблиця з новою колонкою Total_Revenue ===\n",
            "    Product  Price  Sales  Total_Revenue\n",
            "0    Laptop   1200     35          42000\n",
            "1     Phone    800     78          62400\n",
            "2    Tablet    300     25           7500\n",
            "3   Monitor    400     40          16000\n",
            "4  Keyboard    100     90           9000\n",
            "--------------------------------------------------\n"
          ]
        }
      ]
    },
    {
      "cell_type": "code",
      "source": [
        " # Знаходимо продукт з найбільшим прибутком\n",
        "\n",
        " # Знаходимо рядок з найбільшим Total_Revenue\n",
        "max_row = df[df['Total_Revenue'] == df['Total_Revenue'].max()]\n",
        "\n",
        "# Виводимо назву продукту та прибуток\n",
        "product_name = max_row['Product'].values[0]\n",
        "revenue = max_row['Total_Revenue'].values[0]\n",
        "\n",
        "print(\"=== Продукт з найбільшим прибутком ===\")\n",
        "print(f\"Продукт: {product_name}\")\n",
        "print(f\"Прибуток: {revenue}\")\n"
      ],
      "metadata": {
        "colab": {
          "base_uri": "https://localhost:8080/"
        },
        "id": "vuu56lzonCGP",
        "outputId": "2a1a332c-c37b-4101-c95b-ef312bd841c1"
      },
      "execution_count": null,
      "outputs": [
        {
          "output_type": "stream",
          "name": "stdout",
          "text": [
            "=== Продукт з найбільшим прибутком ===\n",
            "Продукт: Phone\n",
            "Прибуток: 62400\n"
          ]
        }
      ]
    },
    {
      "cell_type": "markdown",
      "source": [
        "# Завдання 3: Групування та агрегація (імітація категорій)\n",
        "Додай колонку Category до DataFrame:\n",
        "\n",
        "\n",
        "```\n",
        "categories = ['Electronics', 'Electronics', 'Electronics', 'Accessories', 'Accessories']\n",
        "\n",
        "```\n",
        "\n",
        "Зроби групування по категорії та обчисли:\n",
        "\n",
        "загальний обсяг продажів (Sales)\n",
        "\n",
        "загальний прибуток (Total_Revenue)\n",
        "\n",
        "Виведи результат у новий DataFrame.\n",
        "\n"
      ],
      "metadata": {
        "id": "2Cw4HSCdnb2M"
      }
    },
    {
      "cell_type": "code",
      "source": [
        "# доповнюємо початкову таблицю:\n",
        "\n",
        "import pandas as pd\n",
        "\n",
        "# Початковий словник\n",
        "data = {\n",
        "    'Product': ['Laptop', 'Phone', 'Tablet', 'Monitor', 'Keyboard'],\n",
        "    'Price': [1200, 800, 300, 400, 100],\n",
        "    'Sales': [35, 78, 25, 40, 90]\n",
        "}\n",
        "\n",
        "# Створюємо DataFrame\n",
        "df = pd.DataFrame(data)\n",
        "\n",
        "# Додаємо колонку категорій\n",
        "categories = ['Electronics', 'Electronics', 'Electronics', 'Accessories', 'Accessories']\n",
        "df['Category'] = categories\n",
        "\n",
        "# Додаємо колонку з прибутком\n",
        "df['Total_Revenue'] = df['Price'] * df['Sales']\n"
      ],
      "metadata": {
        "id": "NERwIlFensjZ"
      },
      "execution_count": null,
      "outputs": []
    },
    {
      "cell_type": "code",
      "source": [
        "# Групування та агрегація\n",
        "\n",
        "# Групуємо за категорією і обчислюємо сумарні значення\n",
        "grouped_df = df.groupby('Category')[['Sales', 'Total_Revenue']].sum()\n",
        "\n",
        "# Виводимо результат\n",
        "print(\"=== Загальний обсяг продажів і прибуток по категоріях ===\")\n",
        "print(grouped_df)\n"
      ],
      "metadata": {
        "colab": {
          "base_uri": "https://localhost:8080/"
        },
        "id": "9R0GXE4AoGUy",
        "outputId": "6234ca5c-c6f9-4cb0-e6dd-d6fd0c0311b3"
      },
      "execution_count": null,
      "outputs": [
        {
          "output_type": "stream",
          "name": "stdout",
          "text": [
            "=== Загальний обсяг продажів і прибуток по категоріях ===\n",
            "             Sales  Total_Revenue\n",
            "Category                         \n",
            "Accessories    130          25000\n",
            "Electronics    138         111900\n"
          ]
        }
      ]
    },
    {
      "cell_type": "markdown",
      "source": [
        "# Завдання 4: Візуалізація\n",
        "Побудуй стовпчастий графік (bar) для колонки Sales по кожному продукту.\n",
        "\n",
        "Побудуй кругову діаграму (pie) частки прибутку Total_Revenue для кожної категорії (Category).\n",
        "\n",
        "Використовуй метод .plot(kind=...) і matplotlib.pyplot.show() для відображення графіків."
      ],
      "metadata": {
        "id": "mqAp9E8bpzEo"
      }
    },
    {
      "cell_type": "markdown",
      "source": [
        "**Matplotlib**\n",
        " Основна бібліотека для графіків у Python\n",
        " Дуже гнучка, але іноді трохи \"низькорівнева\" — потрібно писати більше коду\n",
        "\n",
        " Особливості:\n",
        "Створює лінійні графіки, стовпчикові, гістограми, точкові, кругові тощо.\n",
        "\n",
        "Можна налаштувати кожен елемент: колір, шрифт, мітки, координатну сітку.\n",
        "\n",
        "Добре інтегрується з pandas (df.plot() використовує її).\n",
        "\n"
      ],
      "metadata": {
        "id": "_kBGibp3qaZE"
      }
    },
    {
      "cell_type": "code",
      "source": [
        "# імпорт бібліотек і створення DataFrame\n",
        "\n",
        "import pandas as pd\n",
        "import matplotlib.pyplot as plt  # бібліотека для графіків\n",
        "\n",
        "# Створюємо початкові дані\n",
        "data = {\n",
        "    'Product': ['Laptop', 'Phone', 'Tablet', 'Monitor', 'Keyboard'],\n",
        "    'Price': [1200, 800, 300, 400, 100],\n",
        "    'Sales': [35, 78, 25, 40, 90]\n",
        "}\n",
        "df = pd.DataFrame(data)\n",
        "\n",
        "# Додаємо колонку Category\n",
        "df['Category'] = ['Electronics', 'Electronics', 'Electronics', 'Accessories', 'Accessories']\n",
        "\n",
        "# Обчислюємо Total_Revenue\n",
        "df['Total_Revenue'] = df['Price'] * df['Sales']\n",
        "\n"
      ],
      "metadata": {
        "id": "zp0f9IZsp13t"
      },
      "execution_count": null,
      "outputs": []
    },
    {
      "cell_type": "markdown",
      "source": [
        "## Стовпчастий графік (bar) для колонки Sales по кожному продукту"
      ],
      "metadata": {
        "id": "XOqNelZLr4OW"
      }
    },
    {
      "cell_type": "code",
      "source": [
        "#  стовпчастий графік (bar) для колонки Sales по кожному продукту:\n",
        "\n",
        "print(\"=== Стовпчастий графік Sales по Product ===\")\n",
        "df.plot(x='Product', y='Sales', kind='bar', legend=False)\n",
        "plt.title(\"Продажі по продуктах\")\n",
        "plt.xlabel(\"Продукт\")\n",
        "plt.ylabel(\"Кількість продажів\")\n",
        "plt.grid(axis='y')\n",
        "plt.tight_layout()\n",
        "plt.show()\n"
      ],
      "metadata": {
        "colab": {
          "base_uri": "https://localhost:8080/",
          "height": 504
        },
        "id": "8sM_KYZQqklY",
        "outputId": "a9af8679-4384-4724-87ce-70058353b141"
      },
      "execution_count": null,
      "outputs": [
        {
          "output_type": "stream",
          "name": "stdout",
          "text": [
            "=== Стовпчастий графік Sales по Product ===\n"
          ]
        },
        {
          "output_type": "display_data",
          "data": {
            "text/plain": [
              "<Figure size 640x480 with 1 Axes>"
            ],
            "image/png": "[encoded data removed]"
          },
          "metadata": {}
        }
      ]
    },
    {
      "cell_type": "markdown",
      "source": [
        "## Кругова діаграма (pie) частки прибутку Total_Revenue для кожної категорії (Category)"
      ],
      "metadata": {
        "id": "QJ_mST62sHEM"
      }
    },
    {
      "cell_type": "code",
      "source": [
        "# кругова діаграма (pie) частки прибутку Total_Revenue для кожної категорії (Category).\n",
        "\n",
        "# Спочатку групуємо дані за категорією і рахуємо суму прибутку для кожної категорії\n",
        "category_revenue = df.groupby('Category')['Total_Revenue'].sum()\n",
        "\n",
        "print(\"=== Кругова діаграма прибутку по категоріях ===\")\n",
        "\n",
        "# Будуємо кругову діаграму:\n",
        "# kind='pie' — вказуємо тип графіка \"кругова діаграма\"\n",
        "# autopct='%1.1f%%' — додає підписи відсотків з одним десятковим знаком\n",
        "# startangle=90 — повертає діаграму на 90 градусів, щоб сектор починався зверху\n",
        "category_revenue.plot(kind='pie', autopct='%1.1f%%', startangle=90)\n",
        "\n",
        "# Додаємо заголовок графіку\n",
        "plt.title(\"Частка прибутку по категоріях\")\n",
        "\n",
        "# Приховуємо підпис осі Y (щоб не було зайвого тексту збоку)\n",
        "plt.ylabel('')\n",
        "\n",
        "# Робимо кругову діаграму рівносторонньою (щоб не була овальною)\n",
        "plt.axis('equal')\n",
        "\n",
        "# Оптимізуємо розташування елементів, щоб нічого не обрізалося\n",
        "plt.tight_layout()\n",
        "\n",
        "# Відображаємо графік на екрані\n",
        "plt.show()\n",
        "\n"
      ],
      "metadata": {
        "colab": {
          "base_uri": "https://localhost:8080/",
          "height": 504
        },
        "id": "dyOUOTpFrO5r",
        "outputId": "349f4c20-74af-4e92-e5e1-213a50024bfb"
      },
      "execution_count": null,
      "outputs": [
        {
          "output_type": "stream",
          "name": "stdout",
          "text": [
            "=== Кругова діаграма прибутку по категоріях ===\n"
          ]
        },
        {
          "output_type": "display_data",
          "data": {
            "text/plain": [
              "<Figure size 640x480 with 1 Axes>"
            ],
            "image/png": "[encoded data removed]"
          },
          "metadata": {}
        }
      ]
    }
  ]
}