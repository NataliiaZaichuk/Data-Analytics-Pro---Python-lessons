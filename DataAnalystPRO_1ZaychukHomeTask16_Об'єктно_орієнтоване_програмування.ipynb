{
  "nbformat": 4,
  "nbformat_minor": 0,
  "metadata": {
    "colab": {
      "provenance": [],
      "toc_visible": true
    },
    "kernelspec": {
      "name": "python3",
      "display_name": "Python 3"
    },
    "language_info": {
      "name": "python"
    }
  },
  "cells": [
    {
      "cell_type": "markdown",
      "source": [
        "# Описати класами (мінімум 3 класу) щось з життя (як ми описували кота, ноутбук, машину)\n",
        "\n",
        "Продумати атрибути кожного класу і методи\n",
        "\n",
        "Для прикладу:\n",
        "\n",
        "Квартира\n",
        "Приміщення -> Кухня, Санвузол, Кімната....\n",
        "Додатково - можете написати будь який клас з вашого прикладу"
      ],
      "metadata": {
        "id": "8ZVdF-sdWx9g"
      }
    },
    {
      "cell_type": "markdown",
      "source": [
        "# Тема: Фізика та фізичні закони\n",
        "(або згадаємо фізмат ліцей, хоч я потім отримала філологічну освіту :))))\n",
        "\n",
        "\n",
        "Структура:\n",
        "\n",
        "1 клас - Scientist — вчений, який відкрив закон.\n",
        "\n",
        "2 клас - PhysicalLaw — закон, формула, науковець, що відкрив.\n",
        "\n",
        "3 клас - Experiment — експеримент, пов’язаний із законом."
      ],
      "metadata": {
        "id": "weDMu9PWXLy4"
      }
    },
    {
      "cell_type": "code",
      "source": [
        "# Клас для вченого\n",
        "class Scientist:\n",
        "  def __init__ (self,name,country):\n",
        "    self.name = name             # Ім’я вченого\n",
        "    self.country = country       # Країна, звідки вчений\n",
        "  def describe(self):\n",
        "    return f\"{self.name} ({self.country})\" # Повертає рядок з іменем і країною вченого\n",
        "\n",
        "# Створюємо об’єкт класу Scientist — Ісаак Ньютон з Англії\n",
        "newton = Scientist(\"Ісаак Ньютон\", \"Англія\") # Створення вченого з ім’ям і країною\n",
        "\n",
        "print(newton.describe())                     # перевірка блоку коду - чи виведеться і що саме\n",
        "\n",
        "# Клас для фізичного закону\n",
        "class PhysicalLaw:\n",
        "  def __init__ (self, name, formula, scientist):\n",
        "    self.name = name                        # Назва фізичного закону\n",
        "    self.formula = formula                  # Формула закону\n",
        "    self.scientist = scientist              # хто відкрив цей закон\n",
        "  def describe(self):\n",
        "    return f\"{self.name} - формула {self.formula}, відкрив {self.scientist.describe()}\"   #опис закону разом із формулою та іменем вченого\n",
        "\n",
        "# Створюємо об’єкт класу PhysicalLaw — Закон всесвітнього тяжіння\n",
        "gravity = PhysicalLaw(\"Закон всесвітнього тяжіння\", \"F = G * (m1*m2)/r^2\", newton) # Закон з назвою, формулою і вченим, який його відкрив\n",
        "\n",
        "print(gravity.describe())                     # перевірка блоку коду - чи виведеться і що саме\n",
        "\n",
        "# Клас для експерименту\n",
        "class Experiment:\n",
        "    def __init__(self, title, law, description):\n",
        "        self.title = title              # Назва експерименту\n",
        "        self.law = law                  # Об’єкт класу PhysicalLaw — який закон демонструє експеримент\n",
        "        self.description = description  # Опис експерименту\n",
        "\n",
        "    def show_experiment(self):\n",
        "        return (\n",
        "            f\"Експеримент: {self.title}\\n\"         # \\n означає \"перенесення рядка\"\n",
        "            f\"Опис: {self.description}\\n\"          # Текст піде з нового рядка\n",
        "            f\"Закон: {self.law.describe()}\"        # Вивід інформації про закон\n",
        "        )\n",
        "\n",
        "# Створюємо об’єкт класу Experiment — експеримент із падінням яблука\n",
        "falling_apple = Experiment(\n",
        "    \"Падіння яблука\",                                                      # Назва експерименту\n",
        "    gravity,                                                               # Закон, який демонструє експеримент\n",
        "    \"Дослід, який демонструє силу тяжіння на прикладі падіння предметів.\"  # Короткий опис експерименту\n",
        ")\n",
        "\n",
        "print(falling_apple.show_experiment())"
      ],
      "metadata": {
        "colab": {
          "base_uri": "https://localhost:8080/"
        },
        "id": "IZ-FzyOLWzbo",
        "outputId": "a213f952-f4d5-45b2-99b0-0d588a140807"
      },
      "execution_count": null,
      "outputs": [
        {
          "output_type": "stream",
          "name": "stdout",
          "text": [
            "Ісаак Ньютон (Англія)\n",
            "Закон всесвітнього тяжіння - формула F = G * (m1*m2)/r^2, відкрив Ісаак Ньютон (Англія)\n",
            "Експеримент: Падіння яблука\n",
            "Опис: Дослід, який демонструє силу тяжіння на прикладі падіння предметів.\n",
            "Закон: Закон всесвітнього тяжіння - формула F = G * (m1*m2)/r^2, відкрив Ісаак Ньютон (Англія)\n"
          ]
        }
      ]
    },
    {
      "cell_type": "markdown",
      "source": [
        "# Спробувати використати set"
      ],
      "metadata": {
        "id": "YIe3s4T6JMEv"
      }
    },
    {
      "cell_type": "code",
      "source": [
        "# Клас для вченого\n",
        "class Scientist:\n",
        "    def __init__(self, name, country):\n",
        "        self.name = name             # Ім’я вченого\n",
        "        self.country = country       # Країна, звідки вчений\n",
        "\n",
        "    def describe(self):\n",
        "        return f\"{self.name} ({self.country})\"  # Повертає рядок з іменем і країною вченого\n",
        "\n",
        "    # Сеттер для зміни країни\n",
        "    def set_country(self, new_country):\n",
        "        self.country = new_country  # Заміна значення атрибута country\n",
        "\n",
        "# Створюємо об’єкт класу Scientist — Ісаак Ньютон з Англії\n",
        "newton = Scientist(\"Ісаак Ньютон\", \"Англія\")\n",
        "\n",
        "print(newton.describe())  # Перевіримо початкові дані: має вивести \"Ісаак Ньютон (Англія)\"\n",
        "\n",
        "# Змінюємо країну на \"Велика Британія\" за допомогою сеттера\n",
        "newton.set_country(\"Велика Британія\")\n",
        "\n",
        "print(newton.describe())  # Перевіримо, чи змінилася країна: має вивести \"Ісаак Ньютон (Велика Британія)\""
      ],
      "metadata": {
        "colab": {
          "base_uri": "https://localhost:8080/"
        },
        "id": "9rQ2vIfNJO0Q",
        "outputId": "750d94f3-8b03-46d2-8184-e28f12153aec"
      },
      "execution_count": null,
      "outputs": [
        {
          "output_type": "stream",
          "name": "stdout",
          "text": [
            "Ісаак Ньютон (Англія)\n",
            "Ісаак Ньютон (Велика Британія)\n"
          ]
        }
      ]
    },
    {
      "cell_type": "markdown",
      "source": [
        "# Спробувати використати get"
      ],
      "metadata": {
        "id": "uKN80ypFKEL2"
      }
    },
    {
      "cell_type": "code",
      "source": [
        "# Клас для вченого\n",
        "class Scientist:\n",
        "    def __init__(self, name, country):\n",
        "        self.name = name             # Ім’я вченого\n",
        "        self.country = country       # Країна, звідки вчений\n",
        "\n",
        "    def describe(self):\n",
        "        return f\"{self.name} ({self.country})\"  # Повертає рядок з іменем і країною вченого\n",
        "\n",
        "    # Геттер для отримання значення країни\n",
        "    def get_country(self):\n",
        "        return self.country  # Повертає країну вченого\n",
        "\n",
        "# Створюємо об’єкт класу Scientist — Ісаак Ньютон з Англії\n",
        "newton = Scientist(\"Ісаак Ньютон\", \"Англія\")\n",
        "\n",
        "# Отримуємо країну через геттер\n",
        "print(\"Країна вченого:\", newton.get_country())  # Виведе: Країна вченого: Англія\n",
        "\n",
        "# Після цього можемо використати describe як завжди\n",
        "print(newton.describe())  # Виведе: Ісаак Ньютон (Англія)\n"
      ],
      "metadata": {
        "colab": {
          "base_uri": "https://localhost:8080/"
        },
        "id": "WWxgivlnKBdV",
        "outputId": "2cdd908a-bee8-4aa1-baee-a737469773fd"
      },
      "execution_count": null,
      "outputs": [
        {
          "output_type": "stream",
          "name": "stdout",
          "text": [
            "Країна вченого: Англія\n",
            "Ісаак Ньютон (Англія)\n"
          ]
        }
      ]
    }
  ]
}