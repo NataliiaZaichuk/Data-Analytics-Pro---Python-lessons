{
  "nbformat": 4,
  "nbformat_minor": 0,
  "metadata": {
    "colab": {
      "provenance": []
    },
    "kernelspec": {
      "name": "python3",
      "display_name": "Python 3"
    },
    "language_info": {
      "name": "python"
    }
  },
  "cells": [
    {
      "cell_type": "code",
      "execution_count": null,
      "metadata": {
        "id": "sjJViqAQCT9H"
      },
      "outputs": [],
      "source": [
        "# Завдання 2 - Реалізувати арифметичні операції і вивести результат та тип результату в консоль або output cell"
      ]
    },
    {
      "cell_type": "code",
      "source": [
        "# a) 2 * 3 - просте множення\n",
        "\n",
        "a=2*3\n",
        "print(a)"
      ],
      "metadata": {
        "colab": {
          "base_uri": "https://localhost:8080/"
        },
        "id": "RxVTAgsUD0_r",
        "outputId": "aa055d33-1300-4e53-bd8f-9ebf7ec10d87"
      },
      "execution_count": null,
      "outputs": [
        {
          "output_type": "stream",
          "name": "stdout",
          "text": [
            "6\n"
          ]
        }
      ]
    },
    {
      "cell_type": "code",
      "source": [
        "# b) (3 * 3 + 8) / 3 - простий приклад з розкриванням дужок\n",
        "b=(3 * 3 + 8) / 3\n",
        "print(b)"
      ],
      "metadata": {
        "colab": {
          "base_uri": "https://localhost:8080/"
        },
        "id": "4ItaFtbJFHjb",
        "outputId": "400a119e-f2dd-4b7c-d8e3-54c21210213a"
      },
      "execution_count": null,
      "outputs": [
        {
          "output_type": "stream",
          "name": "stdout",
          "text": [
            "5.666666666666667\n"
          ]
        }
      ]
    },
    {
      "cell_type": "code",
      "source": [
        "# c) 8 // 3 - це оператор цілочисельного ділення (integer division) - ділить одне число на інше, але залишає тільки цілу частину результату, без дробової частини\n",
        "c=8//3\n",
        "print(c)"
      ],
      "metadata": {
        "colab": {
          "base_uri": "https://localhost:8080/"
        },
        "id": "xjaiyg5_Fyhe",
        "outputId": "8861e766-fc07-49e1-fcbe-38fc7d2e2bb1"
      },
      "execution_count": null,
      "outputs": [
        {
          "output_type": "stream",
          "name": "stdout",
          "text": [
            "2\n"
          ]
        }
      ]
    },
    {
      "cell_type": "code",
      "source": [
        "# d) 8 % 3 - оператор остачі від ділення (оператор модулю (modulus operator))\n",
        "d=8%3\n",
        "print(d)"
      ],
      "metadata": {
        "colab": {
          "base_uri": "https://localhost:8080/"
        },
        "id": "VCQawlBrGaAG",
        "outputId": "58c58378-0263-4ebb-d067-76b091dde7e0"
      },
      "execution_count": null,
      "outputs": [
        {
          "output_type": "stream",
          "name": "stdout",
          "text": [
            "2\n"
          ]
        }
      ]
    },
    {
      "cell_type": "code",
      "source": [
        "# e) 5 ** 2 - піднесення до степені\n",
        "e=5**2\n",
        "print(e)"
      ],
      "metadata": {
        "colab": {
          "base_uri": "https://localhost:8080/"
        },
        "id": "laMQEyGQHUpq",
        "outputId": "05708a8b-e081-43f1-8a50-1cd709d5bb48"
      },
      "execution_count": null,
      "outputs": [
        {
          "output_type": "stream",
          "name": "stdout",
          "text": [
            "25\n"
          ]
        }
      ]
    },
    {
      "cell_type": "code",
      "source": [
        "# f)\"Hello\" +  'world' - Оператор + використовується для склеювання рядків (конкатенації). В результаті ми отримуємо один рядок\n",
        "f=\"Hello\" +  'world'\n",
        "print(f)"
      ],
      "metadata": {
        "colab": {
          "base_uri": "https://localhost:8080/"
        },
        "id": "fJarPhvcH5pO",
        "outputId": "784ab004-00d1-45f4-d4ca-ceec039acb8e"
      },
      "execution_count": null,
      "outputs": [
        {
          "output_type": "stream",
          "name": "stdout",
          "text": [
            "Helloworld\n"
          ]
        }
      ]
    },
    {
      "cell_type": "code",
      "source": [
        "# f)\"Hello\" +  'world' - спробуємо додати пробіл між словами, треба додати його в рядок\n",
        "f=\"Hello\"+' '+'world'\n",
        "print(f)"
      ],
      "metadata": {
        "colab": {
          "base_uri": "https://localhost:8080/"
        },
        "id": "BSvQcsgZIysn",
        "outputId": "461540d8-2bf6-4f3b-9f88-45263f35d476"
      },
      "execution_count": null,
      "outputs": [
        {
          "output_type": "stream",
          "name": "stdout",
          "text": [
            "Hello world\n"
          ]
        }
      ]
    },
    {
      "cell_type": "code",
      "source": [
        "# g) 'Python'*5 - Python повторює рядок \"Python\" 5 разів, тобто створюється новий рядок, що складається з 5 таких однакових частин\n",
        "# Цей вираз не обчислює математичне множення. Він повторює рядок.(Якщо використовувати 0 або від'ємне число, результатом буде порожній рядок (''))\n",
        "g='Python'*5\n",
        "print(g)"
      ],
      "metadata": {
        "colab": {
          "base_uri": "https://localhost:8080/"
        },
        "id": "6hGSQtz_Jbhb",
        "outputId": "4233f813-ae34-40f6-e7cc-868203edff56"
      },
      "execution_count": null,
      "outputs": [
        {
          "output_type": "stream",
          "name": "stdout",
          "text": [
            "PythonPythonPythonPythonPython\n"
          ]
        }
      ]
    },
    {
      "cell_type": "code",
      "source": [
        "# h) 5 < 9 - оператор порівняння\n",
        "h=5 #5 менше 9, логічний вираз правильний\n",
        "h<9"
      ],
      "metadata": {
        "colab": {
          "base_uri": "https://localhost:8080/"
        },
        "id": "ESyGXC2WKRTt",
        "outputId": "5e471471-42df-4070-8e90-467c84b9d058"
      },
      "execution_count": null,
      "outputs": [
        {
          "output_type": "execute_result",
          "data": {
            "text/plain": [
              "True"
            ]
          },
          "metadata": {},
          "execution_count": 10
        }
      ]
    },
    {
      "cell_type": "code",
      "source": [
        "# Завдання 3 - Створити дві змінні текстового типу, використовуючи одинарні і подвійні лапки. Для прикладу, Ваше ім'я та прізвище.\n",
        "# №1\n",
        "full_name=\"Nataliia\"+' '+'Zaychuk'  # можна просто записати 2 текстові значення в лапках і \"+\" їх поєднає\n",
        "print(full_name)"
      ],
      "metadata": {
        "colab": {
          "base_uri": "https://localhost:8080/"
        },
        "id": "a-OCGS9HKu-Y",
        "outputId": "496af724-216d-4c73-dd11-8e888a2984b0"
      },
      "execution_count": null,
      "outputs": [
        {
          "output_type": "stream",
          "name": "stdout",
          "text": [
            "Nataliia Zaychuk\n"
          ]
        }
      ]
    },
    {
      "cell_type": "code",
      "source": [
        "# Завдання 3 - Створити дві змінні текстового типу, використовуючи одинарні і подвійні лапки. Для прикладу, Ваше ім'я та прізвище.\n",
        "# №2\n",
        "first_name=\"Nataliia\" # створити змінну Ім'я\n",
        "last_name='ZAICHUK'   # створити змінну Прізвище\n",
        "full_name=first_name+last_name  # поєднати змінні через \"+\"\n",
        "print(full_name)"
      ],
      "metadata": {
        "colab": {
          "base_uri": "https://localhost:8080/"
        },
        "id": "hp63DmXHLg69",
        "outputId": "501c8005-14ba-4769-c292-d526be3db034"
      },
      "execution_count": null,
      "outputs": [
        {
          "output_type": "stream",
          "name": "stdout",
          "text": [
            "NataliiaZAICHUK\n"
          ]
        }
      ]
    },
    {
      "cell_type": "code",
      "source": [
        "# Завдання 4 - Cлайси (як змінну використайте ваше улюблене правило з Python Zen)\n"
      ],
      "metadata": {
        "id": "wijBk5SNMUBO"
      },
      "execution_count": null,
      "outputs": []
    },
    {
      "cell_type": "markdown",
      "source": [
        "![2025-04-13 16_42_30-Книга1 - Excel.png](data:image/png;base64,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)"
      ],
      "metadata": {
        "id": "sWi0hFSzYioE"
      }
    },
    {
      "cell_type": "markdown",
      "source": [],
      "metadata": {
        "id": "ka6CRKNUYMJc"
      }
    },
    {
      "cell_type": "code",
      "source": [
        "# a) вивести перші 10 символів рядка\n",
        "text =\"Readability counts\"  # Зрозумілість має значення\n",
        "first_10 = text[:10]  # Слайс з початку до 10-го символа\n",
        "print(first_10)"
      ],
      "metadata": {
        "colab": {
          "base_uri": "https://localhost:8080/"
        },
        "id": "TnxJyUsFMbvR",
        "outputId": "ae21f9e6-7b4d-42dd-9d7c-d467e59faf29"
      },
      "execution_count": null,
      "outputs": [
        {
          "output_type": "stream",
          "name": "stdout",
          "text": [
            "Readabilit\n"
          ]
        }
      ]
    },
    {
      "cell_type": "code",
      "source": [
        "# b) вивести 10 символів, починаючи із 3-го\n",
        "text =\"Readability counts\"\n",
        "subset=text[2:12]   # Слайс з 2 значення по 11 значення включно(бо 12 - це значення, яке обмежує вибірку, але не входить до неї)\n",
        "print(subset)"
      ],
      "metadata": {
        "colab": {
          "base_uri": "https://localhost:8080/"
        },
        "id": "-bHeL2lrODvr",
        "outputId": "9a85eeff-6382-4f2c-d18c-a046bb273f65"
      },
      "execution_count": null,
      "outputs": [
        {
          "output_type": "stream",
          "name": "stdout",
          "text": [
            "adability \n"
          ]
        }
      ]
    },
    {
      "cell_type": "code",
      "source": [
        "# c) вивести останні 10 символів рядка (від'ємна індексація)\n",
        "text = \"Readability counts\"\n",
        "last_10 = text[-10:]   # -10 —  \"почати з десятого символа з кінця\", : —  \"до самого кінця рядка\"\n",
        "print(last_10)"
      ],
      "metadata": {
        "colab": {
          "base_uri": "https://localhost:8080/"
        },
        "id": "tHbqfF8eaxDb",
        "outputId": "3eafd0a6-64a4-4792-b838-6f71ee71a639"
      },
      "execution_count": null,
      "outputs": [
        {
          "output_type": "stream",
          "name": "stdout",
          "text": [
            "ity counts\n"
          ]
        }
      ]
    },
    {
      "cell_type": "code",
      "source": [
        "# d) вивести весь рядок в зворотному порядку\n",
        "text = \"Readability counts\"\n",
        "reversed_text=text[::-1]   # крок -1 в даному виразі говорить про зворотній порядок, оскільки не вказано аргументи початку і кінця числового ряду,\n",
        "                           # то весь список має бути \"перевернутим\"\n",
        "print(reversed_text)"
      ],
      "metadata": {
        "colab": {
          "base_uri": "https://localhost:8080/"
        },
        "id": "1w9DltgacbdW",
        "outputId": "49f8632e-de26-4837-ebb4-bd41a7bad37f"
      },
      "execution_count": null,
      "outputs": [
        {
          "output_type": "stream",
          "name": "stdout",
          "text": [
            "stnuoc ytilibadaeR\n"
          ]
        }
      ]
    },
    {
      "cell_type": "code",
      "source": [
        "# e) вивести символи із парними і непарними індексами\n",
        "# парні індекси\n",
        "text = \"Readability counts\"\n",
        "even_indices=text[::2]  # оскільки не вказано аргументи початку і кінця числового ряду, а вказано тільки крок 2- значить вираз візьме кожне друге значення, починаючи з 0\n",
        "print(even_indices)"
      ],
      "metadata": {
        "colab": {
          "base_uri": "https://localhost:8080/"
        },
        "id": "Gi2eTynydGAi",
        "outputId": "946688f3-1479-41de-c294-6a6d17328220"
      },
      "execution_count": null,
      "outputs": [
        {
          "output_type": "stream",
          "name": "stdout",
          "text": [
            "Raaiiycut\n"
          ]
        }
      ]
    },
    {
      "cell_type": "code",
      "source": [
        "# e) вивести символи із парними і непарними індексами\n",
        "# непарні індекси\n",
        "text = \"Readability counts\"\n",
        "odd_indices=text[1::2]   # в виразі вказано початок ряду - 1 значення (непарне) і вказано крок - 2, то вираз візьме кожне 2 значення починаючи з 1 значення ряду\n",
        "print(odd_indices)"
      ],
      "metadata": {
        "colab": {
          "base_uri": "https://localhost:8080/"
        },
        "id": "jenvEugFd8gD",
        "outputId": "6cfeff22-3bb4-41f6-f9b7-78561f881fd6"
      },
      "execution_count": null,
      "outputs": [
        {
          "output_type": "stream",
          "name": "stdout",
          "text": [
            "edblt ons\n"
          ]
        }
      ]
    },
    {
      "cell_type": "code",
      "source": [
        "# Завдання 5 - Створіть дві змінні з будь-якими числовими значеннями. Виконайте порівняння цих змінних з використанням операторів >, <, == та !=\n",
        "aa = 75\n",
        "bb = 50\n",
        "print(\"aa > bb:\", aa > bb)     # Чи aa більше за bb?\n",
        "print(\"aa < bb:\", aa < bb)     # Чи aa менше за bb?\n",
        "print(\"aa == bb:\", aa == bb)   # Чи aa дорівнює bb?\n",
        "print(\"aa != bb:\", aa != bb)   # Чи aa не дорівнює bb?\n",
        "# print - додає вираз, який ми перевіряємо у логічний вираз, для наочності і дозволяє перевірити більше одного логічного виразу"
      ],
      "metadata": {
        "colab": {
          "base_uri": "https://localhost:8080/"
        },
        "id": "SpSwYv0Feg3U",
        "outputId": "a65ae99f-7609-4297-9574-0ef1a7c21547"
      },
      "execution_count": null,
      "outputs": [
        {
          "output_type": "stream",
          "name": "stdout",
          "text": [
            "aa > bb: True\n",
            "aa < bb: False\n",
            "aa == bb: False\n",
            "aa != bb: True\n"
          ]
        }
      ]
    },
    {
      "cell_type": "code",
      "source": [
        "# Використайте логічні оператори and, or, not для комбінування декількох умов:\n",
        "\n",
        "# Перевірте, чи одна змінна більша за іншу і чи є вона додатною.\n",
        "# print - додає вираз, який ми перевіряємо у логічний вираз, для наочності\n",
        "aa = 75\n",
        "bb = 50\n",
        "print(\"aa>bb and aa>0\",aa>bb and aa>0)  # логічний вираз перевіряє чи aa більше bb і чи aa більше нуля - 75>50 and 75>0 - вираз правильний\n",
        "print(\"bb>aa and bb>0\",bb>aa and bb>0)  # логічний вираз перевіряє чи bb більше aa і чи bb більше нуля - 50>75 and 50>0 - вираз неправильний"
      ],
      "metadata": {
        "colab": {
          "base_uri": "https://localhost:8080/"
        },
        "id": "tmxnx-FwgAD4",
        "outputId": "6d21fd0b-ee4c-4a2c-8dea-e728e7f8a8cf"
      },
      "execution_count": null,
      "outputs": [
        {
          "output_type": "stream",
          "name": "stdout",
          "text": [
            "aa>bb and aa>0 True\n",
            "bb>aa and bb>0 False\n"
          ]
        }
      ]
    },
    {
      "cell_type": "code",
      "source": [
        "# Використайте логічні оператори and, or, not для комбінування декількох умов:\n",
        "# Перевірте, чи одна зі змінних менша за 100 або дорівнює 50.\n",
        "# варіант з and\n",
        "aa = 75\n",
        "bb = 50\n",
        "print(\"aa<100 and aa==50\",aa<100 and aa==50)  # Перевірте, чи одна зі змінних менша за 100 або дорівнює 50, за умови, що aa = 75 - aa менше 100, але не дорівнює 50\n",
        "print(\"bb<100 and bb==50\",bb<100 and bb==50)  # Перевірте, чи одна зі змінних менша за 100 або дорівнює 50, за умови, що bb = 50 - bb менше 100 і дорівнює 50"
      ],
      "metadata": {
        "colab": {
          "base_uri": "https://localhost:8080/"
        },
        "id": "_4qsi5vahUok",
        "outputId": "1178145d-4dbb-4e81-bc2b-cb3f01191c71"
      },
      "execution_count": null,
      "outputs": [
        {
          "output_type": "stream",
          "name": "stdout",
          "text": [
            "aa<100 and aa==50 False\n",
            "bb<100 and bb==50 True\n"
          ]
        }
      ]
    },
    {
      "cell_type": "code",
      "source": [
        "# Використайте логічні оператори and, or, not для комбінування декількох умов:\n",
        "# Перевірте, чи одна зі змінних менша за 100 або дорівнює 50.\n",
        "# варіант з or\n",
        "aa = 75\n",
        "bb = 50\n",
        "condition1 = aa < 100 or aa == 50  # aa =75, вона менше 100, але не дорівнює 50\n",
        "condition2 = bb < 100 or bb == 50  # bb = 50, змінна менше 100 і дорівнює 50\n",
        "\n",
        "print(\"Одна зі змінних менша за 100 або дорівнює 50:\", condition1 or condition2)  #має виконуватись хоч одна з двох умов. Оскальки одна виконується - то логічний вираз правильний"
      ],
      "metadata": {
        "colab": {
          "base_uri": "https://localhost:8080/"
        },
        "id": "84igXCojpruq",
        "outputId": "872a5235-f264-42ec-bf04-37397cf34f21"
      },
      "execution_count": null,
      "outputs": [
        {
          "output_type": "stream",
          "name": "stdout",
          "text": [
            "Одна зі змінних менша за 100 або дорівнює 50: True\n"
          ]
        }
      ]
    },
    {
      "cell_type": "code",
      "source": [
        "# Використайте логічні оператори and, or, not для комбінування декількох умов:\n",
        "# Перевірте, чи одна зі змінних менша за 100 або дорівнює 50.\n",
        "# варіант з not - цей варіант вийшов для мене логічно найскладніший\n",
        "aa = 75\n",
        "bb = 50\n",
        "\n",
        "# Умова для aa: він НЕ менше 100 і НЕ дорівнює 50\n",
        "condition1 = aa >= 100 and aa != 50\n",
        "\n",
        "# Умова для bb: він НЕ менше 100 і НЕ дорівнює 50\n",
        "condition2 = bb >= 100 and bb != 50\n",
        "\n",
        "# Якщо обидві умови НЕ виконуються — результат буде True\n",
        "result = not (condition1 and condition2)\n",
        "\n",
        "print(\"Результат:\", result)"
      ],
      "metadata": {
        "colab": {
          "base_uri": "https://localhost:8080/"
        },
        "id": "RqgXB9IL1-ct",
        "outputId": "40173eb4-fcf1-401b-eb14-235b6798dfed"
      },
      "execution_count": null,
      "outputs": [
        {
          "output_type": "stream",
          "name": "stdout",
          "text": [
            "Результат: True\n"
          ]
        }
      ]
    },
    {
      "cell_type": "code",
      "source": [
        "# Використайте логічні оператори and, or, not для комбінування декількох умов:\n",
        "# Перевірте, чи одна зі змінних менша за 100 або дорівнює 50.\n",
        "''' Коментар щодо перевірки через логічні оператори or, not - треба розуміти, що для програми виведений результат логічний, а для людини - не зовсім.\n",
        "В перевірках через логічні оператори or, not програма перевіряє 4 умови на true/false - якщо всі відповіді true чи відповіді змішано true/false - то результат запиту буде - TRUE\n",
        "А false - лише якщо всі результати FALSE\n",
        "Тому краще розкладати такий запит на частини, це буде більш зрозумілим для порівняя, читання та подальшого пояснення\n",
        "нижче скрін як перевірка з оператором or працює в екселі (мені з екселем простіше зрозуміти, як ці оператори працюють в Python)'''"
      ],
      "metadata": {
        "id": "ilX9yQo85yRE"
      },
      "execution_count": null,
      "outputs": []
    },
    {
      "cell_type": "markdown",
      "source": [
        "![image.png](data:image/png;base64,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)"
      ],
      "metadata": {
        "id": "uG8L5fX77vb4"
      }
    },
    {
      "cell_type": "code",
      "source": [
        "# Завдання 6 - Додайте до свого коду коментарі, що пояснюють:\n",
        "#Що робить кожна змінна.\n",
        "#Яка мета кожної логічної перевірки."
      ],
      "metadata": {
        "id": "7ds_tONokiB2"
      },
      "execution_count": null,
      "outputs": []
    },
    {
      "cell_type": "code",
      "source": [],
      "metadata": {
        "id": "6hH1-7_q17eC"
      },
      "execution_count": null,
      "outputs": []
    }
  ]
}